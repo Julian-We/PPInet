{
 "cells": [
  {
   "cell_type": "code",
   "execution_count": 30,
   "metadata": {},
   "outputs": [
    {
     "name": "stdout",
     "output_type": "stream",
     "text": [
      "Warning: When  cdn_resources is 'local' jupyter notebook has issues displaying graphics on chrome/safari. Use cdn_resources='in_line' or cdn_resources='remote' if you have issues viewing graphics in a notebook.\n"
     ]
    }
   ],
   "source": [
    "import networkx as nx\n",
    "import pandas as pd\n",
    "from pyvis.network import Network\n",
    "from ipywidgets import interactive\n",
    "\n",
    "df = pd.read_csv('/Users/izbuser/Downloads/data_from_SpeedPPI/julian_2/output/all_ppis_unfiltered.csv')\n",
    "df[['interactor 1', 'interactor 2']] = df['ID'].str.extract(r'(\\w+)-\\d+-([\\w]+)')\n",
    "df = df[df['pdockq'] > 0.375]\n",
    "g = nx.from_pandas_edgelist(df, source='interactor 1', target='interactor 2', edge_attr=\"pdockq\")\n",
    "\n",
    "net = Network(notebook=True, height=\"1440px\", width=\"2560px\")  # Adjust the height and width as needed\n",
    "net.from_nx(g)\n",
    "net.save_graph(\"interaction_net.html\")"
   ]
  },
  {
   "cell_type": "code",
   "execution_count": 31,
   "metadata": {},
   "outputs": [
    {
     "data": {
      "text/html": [
       "<div>\n",
       "<style scoped>\n",
       "    .dataframe tbody tr th:only-of-type {\n",
       "        vertical-align: middle;\n",
       "    }\n",
       "\n",
       "    .dataframe tbody tr th {\n",
       "        vertical-align: top;\n",
       "    }\n",
       "\n",
       "    .dataframe thead th {\n",
       "        text-align: right;\n",
       "    }\n",
       "</style>\n",
       "<table border=\"1\" class=\"dataframe\">\n",
       "  <thead>\n",
       "    <tr style=\"text-align: right;\">\n",
       "      <th></th>\n",
       "      <th>ID</th>\n",
       "      <th>num_contacts</th>\n",
       "      <th>avg_if_plddt</th>\n",
       "      <th>pdockq</th>\n",
       "      <th>interactor 1</th>\n",
       "      <th>interactor 2</th>\n",
       "    </tr>\n",
       "  </thead>\n",
       "  <tbody>\n",
       "    <tr>\n",
       "      <th>5</th>\n",
       "      <td>aaas-201-nup42-201</td>\n",
       "      <td>1518</td>\n",
       "      <td>69.012849</td>\n",
       "      <td>0.720378</td>\n",
       "      <td>aaas</td>\n",
       "      <td>nup42</td>\n",
       "    </tr>\n",
       "    <tr>\n",
       "      <th>12</th>\n",
       "      <td>nup85-202-nup37-206</td>\n",
       "      <td>194</td>\n",
       "      <td>76.439125</td>\n",
       "      <td>0.568923</td>\n",
       "      <td>nup85</td>\n",
       "      <td>nup37</td>\n",
       "    </tr>\n",
       "    <tr>\n",
       "      <th>14</th>\n",
       "      <td>nup85-202-sec13-201</td>\n",
       "      <td>94</td>\n",
       "      <td>77.083941</td>\n",
       "      <td>0.375158</td>\n",
       "      <td>nup85</td>\n",
       "      <td>sec13</td>\n",
       "    </tr>\n",
       "    <tr>\n",
       "      <th>16</th>\n",
       "      <td>sec13-201-nup43-201</td>\n",
       "      <td>255</td>\n",
       "      <td>71.166970</td>\n",
       "      <td>0.542996</td>\n",
       "      <td>sec13</td>\n",
       "      <td>nup43</td>\n",
       "    </tr>\n",
       "    <tr>\n",
       "      <th>17</th>\n",
       "      <td>nup62l-201-sec13-201</td>\n",
       "      <td>242</td>\n",
       "      <td>68.826312</td>\n",
       "      <td>0.484764</td>\n",
       "      <td>nup62l</td>\n",
       "      <td>sec13</td>\n",
       "    </tr>\n",
       "  </tbody>\n",
       "</table>\n",
       "</div>"
      ],
      "text/plain": [
       "                      ID  num_contacts  avg_if_plddt    pdockq interactor 1  \\\n",
       "5     aaas-201-nup42-201          1518     69.012849  0.720378         aaas   \n",
       "12   nup85-202-nup37-206           194     76.439125  0.568923        nup85   \n",
       "14   nup85-202-sec13-201            94     77.083941  0.375158        nup85   \n",
       "16   sec13-201-nup43-201           255     71.166970  0.542996        sec13   \n",
       "17  nup62l-201-sec13-201           242     68.826312  0.484764       nup62l   \n",
       "\n",
       "   interactor 2  \n",
       "5         nup42  \n",
       "12        nup37  \n",
       "14        sec13  \n",
       "16        nup43  \n",
       "17        sec13  "
      ]
     },
     "execution_count": 31,
     "metadata": {},
     "output_type": "execute_result"
    }
   ],
   "source": [
    "df[df['pdockq'] > 0.375]"
   ]
  },
  {
   "cell_type": "code",
   "execution_count": 34,
   "metadata": {},
   "outputs": [
    {
     "name": "stdout",
     "output_type": "stream",
     "text": [
      "network.html\n"
     ]
    },
    {
     "data": {
      "text/html": [
       "\n",
       "        <iframe\n",
       "            width=\"2560px\"\n",
       "            height=\"1440px\"\n",
       "            src=\"network.html\"\n",
       "            frameborder=\"0\"\n",
       "            allowfullscreen\n",
       "            \n",
       "        ></iframe>\n",
       "        "
      ],
      "text/plain": [
       "<IPython.lib.display.IFrame at 0x7fca378ee940>"
      ]
     },
     "execution_count": 34,
     "metadata": {},
     "output_type": "execute_result"
    }
   ],
   "source": [
    "df = pd.read_csv('/Users/izbuser/Downloads/data_from_SpeedPPI/julian_2/output/all_ppis_unfiltered.csv')\n",
    "df[['interactor 1', 'interactor 2']] = df['ID'].str.extract(r'(\\w+)-\\d+-([\\w]+)')\n",
    "\n",
    "def update_graph(filter_value=0.35):\n",
    "    filtered_df = df[df['pdockq'] > filter_value]\n",
    "    g = nx.from_pandas_edgelist(filtered_df, source='interactor 1', target='interactor 2', edge_attr=\"pdockq\")\n",
    "\n",
    "    net = Network(notebook=True, height=\"1440px\", width=\"2560px\")\n",
    "    net.from_nx(g)\n",
    "    net.save_graph(\"interaction_net.html\")\n",
    "    net.show(\"network.html\")\n",
    "\n",
    "# Create an interactive slider\n",
    "interactive_plot = interactive(update_graph, filter_value=(0.0, 1.0, 0.01), cdn_resources='in_line')\n",
    "\n",
    "# Display the slider\n",
    "interactive_plot\n"
   ]
  },
  {
   "cell_type": "code",
   "execution_count": null,
   "metadata": {},
   "outputs": [],
   "source": []
  }
 ],
 "metadata": {
  "kernelspec": {
   "display_name": "Python 3 (ipykernel)",
   "language": "python",
   "name": "python3"
  },
  "language_info": {
   "codemirror_mode": {
    "name": "ipython",
    "version": 3
   },
   "file_extension": ".py",
   "mimetype": "text/x-python",
   "name": "python",
   "nbconvert_exporter": "python",
   "pygments_lexer": "ipython3",
   "version": "3.8.8"
  }
 },
 "nbformat": 4,
 "nbformat_minor": 1
}
