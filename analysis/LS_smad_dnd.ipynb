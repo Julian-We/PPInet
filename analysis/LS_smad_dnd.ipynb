{
 "cells": [
  {
   "metadata": {
    "ExecuteTime": {
     "end_time": "2025-03-20T15:09:11.949860Z",
     "start_time": "2025-03-20T15:09:10.185101Z"
    }
   },
   "cell_type": "code",
   "source": [
    "import datetime\n",
    "\n",
    "from aflib import palmatylation, decipher, basebuilder\n",
    "import matplotlib.pyplot as plt\n",
    "import seaborn as sns\n",
    "import plotly.express as px"
   ],
   "id": "initial_id",
   "outputs": [],
   "execution_count": 1
  },
  {
   "metadata": {
    "ExecuteTime": {
     "end_time": "2025-03-14T10:28:55.703922Z",
     "start_time": "2025-03-14T10:28:55.701833Z"
    }
   },
   "cell_type": "code",
   "source": "candidates = ['smad2']",
   "id": "d6afa7fb0f12272f",
   "outputs": [],
   "execution_count": 2
  },
  {
   "metadata": {
    "ExecuteTime": {
     "end_time": "2025-03-14T12:16:58.622126Z",
     "start_time": "2025-03-14T12:16:58.618889Z"
    }
   },
   "cell_type": "code",
   "source": [
    "smad2_seq = \"\"\"\n",
    "MSSILPFTPPVVKRLLGWKKSASGSSGAGGGGEQNGQEEKWCEKAVKSLVKKLKKTGQLD\n",
    "ELEKAITTQNRNTKCVTIPSNCSEIWGLSTPNTIEQWDTSGLYSYPDQTRSLDGRLQVSH\n",
    "RKGLPHVIYCRLWRWPDLHSHHELRAIETCEYAFNLKKDEVCVNPYHYQRVETPVLPPVL\n",
    "VPRHTEILTELPPLDDYTNSIPENTNFPTGIEPPNNYIPETPPPGYISEDGEASDQQMNQ\n",
    "SMDTGSPAELSPSTLSPVNHGMDLQPVTYSEPAFWCSIAYYELNQRVGETFHASQPSLTV\n",
    "DGFTDPSNSERFCLGLLSNVNRNATVEMTRRHIGRGVRLYYIGGEVFAECLSDSAIFVQS\n",
    "PNCNQRYGWHPATVCKIPPGCNLKIFNNQEFAALLAQSVNQGFEAVYQLTRMCTIRMSFV\n",
    "KGWGAEYSRRQTVTSTPCWIELHLNGPLQWLDKVLTQMGSPSVRCSSMS\"\"\".strip().replace('\\n','')"
   ],
   "id": "e86122d4b539c644",
   "outputs": [],
   "execution_count": 5
  },
  {
   "metadata": {
    "ExecuteTime": {
     "end_time": "2025-03-14T12:18:04.544355Z",
     "start_time": "2025-03-14T12:18:04.542497Z"
    }
   },
   "cell_type": "code",
   "source": [
    "dnd1_seq = \"\"\"MVGDMDAQQQELQQILNPQKLKSLQEWMQRNSITLTQVNGQRKYGGPPPGWQGPAPGSGC\n",
    "EVFISQIPNDVYEDRLIPLFQSIGTIYEFRLMMNFSGQTRGFAYAKYGDPLTASAAVTTL\n",
    "HQYRLPEGGCLTVRRSTEKRQLRLGDLPVSMNESKLLMVLQMLSDGVEDVLLKPPGPKGK\n",
    "EVVALVNYTSHYAASMAKKVLVEAFRNRYGISITVRWTSFSKSKRVEDTPQEDSCVTPLV\n",
    "LKPLSKPSLLHYDVPAHQSLLPLFRAVGGPTTSEQRDEMIPQPTIMSRNELIPQSSIRQR\n",
    "DEMVPQLPIRPRDGMAPQSPISLDAVSHLQWMCEVNRLGSPQYEVHFHHAAPDGFLYFAF\n",
    "KVLIPGLPLPLYGFVQILPGTSARAMKSEVYRAAAEQVIQTLCRVSNLRPF\n",
    "\"\"\".strip().replace('\\n','')"
   ],
   "id": "aa3a15eb7bd85427",
   "outputs": [],
   "execution_count": 7
  },
  {
   "metadata": {
    "ExecuteTime": {
     "end_time": "2025-03-14T12:18:12.529004Z",
     "start_time": "2025-03-14T12:18:12.363660Z"
    }
   },
   "cell_type": "code",
   "source": [
    "# palmatylation.some_vs_some('/Volumes/terry/PPIDB/submissions/job_inputs/20250314_LS_dnd1_smad', ['dnd1'], candidates, True, db_path='/Volumes/terry/PPIDB/libs/full_lib')\n",
    "\n",
    "# palmatylation.generate_multiple_pairs('/Volumes/terry/PPIDB/submissions/job_inputs/20250314_LS_dnd1_smad', ['smad2'], 'dnd1', None)\n",
    "#\n",
    "palmatylation.generate_pair('/Volumes/terry/PPIDB/submissions/job_inputs/20250314_LS_dnd1_smad', gene_name1='smad2', sequence1=smad2_seq, gene_name2='dnd1', sequence2=dnd1_seq)"
   ],
   "id": "5341bb687bcc4e97",
   "outputs": [
    {
     "name": "stdout",
     "output_type": "stream",
     "text": [
      "smad2-dnd1 needs: \t 14:29:55\n",
      "\n",
      "\n",
      "\n",
      "The job will take approximately 14:29:55\n",
      "Folding 1 pairs\n"
     ]
    }
   ],
   "execution_count": 8
  },
  {
   "metadata": {},
   "cell_type": "markdown",
   "source": [
    "# Step2: Run the jobs on the HPC cluster\n",
    "You can run the jobs on the HPC cluster by using the `sbatch` command. You can run the jobs in parallel by using the `parallel` command. The jobs are independent of each other and can be run in parallel.\n",
    "\n",
    "Copy the input folder to your home diectory on the HPC cluster using `scp` or `rsync`. Navigate to the folder the run the `dealer.sh` script using the bash command.\n",
    "\n",
    "When all Jobs are finished, copy the output folder back to your local machine using `scp` or `rsync`.\n",
    "\n",
    "# Step3: Analysis and visualization\n",
    "After you have the output files on your local machine, you can use the `decipher` module to analyze and visualize the results.\n",
    "\n",
    "## The `Interactions` class\n",
    "The `Interactions` class is the main class for analyzing and visualizing the results. You can create an instance of the class by providing the path to the the same input as you did when generating the input files. The class will automatically load the results and provide you with a variety of methods to analyze and visualize the results.\n",
    "\n",
    "IMPORTANT!: Best to define your mode of analysis when creating an instance of the class. The mode can be either `network`, `screen` or `reload`. The first two use the precomputed database (that has to be provided as an keyword-argument). The `reload` mode will reload the results from the output files.\n",
    "\n",
    "### Modes\n",
    "#### `network`\n",
    "This mode is used when you want to analyze the results of a network screen. You have to provide the list of genes. Additionally, you have to provide the path to the database as a keyword-argument.\n",
    "\n",
    "#### `screen`\n",
    "This mode is used when you want to analyze the results of a screen. You have to provide the list of genes. You can either provide only one gene as a string or a list of genes. The database path has to be provided as a keyword argument. If only one gene name is provided the function will automatically generate a list of \"candidates\" by screening the database. If a list of gene names is provided, the function will use the provided list.\n",
    "\n",
    "#### `reload`\n",
    "This mode is a 'dumb' mode. Every time an instance is created redoes the analysis on the raw data. With many samples this can be very time-consuming and is thus not suggested.\n",
    "\n",
    "## Visualization\n",
    "The `Interactions` class provides a variety of visualization methods. The most important ones are:\n",
    "- `plot_pTM()`\n",
    "- `interactive_pTM_plot()`\n",
    "- `plot_networkx()`\n",
    "- `plot_relationship_circle()`\n",
    "- `matrix_plot()`\n",
    "\n",
    "\n",
    "\n"
   ],
   "id": "918679c1c0ba1585"
  },
  {
   "metadata": {
    "ExecuteTime": {
     "end_time": "2025-03-20T10:55:54.876764Z",
     "start_time": "2025-03-20T10:55:54.027292Z"
    }
   },
   "cell_type": "code",
   "source": "basebuilder.update_db('/Volumes/terry/PPIDB/libs/full_lib')",
   "id": "d67e26d58f76556e",
   "outputs": [
    {
     "data": {
      "text/plain": [
       "0it [00:00, ?it/s]"
      ],
      "application/vnd.jupyter.widget-view+json": {
       "version_major": 2,
       "version_minor": 0,
       "model_id": "1c070a4000cd40b0bf29d06c77860a16"
      }
     },
     "metadata": {},
     "output_type": "display_data"
    }
   ],
   "execution_count": 2
  },
  {
   "metadata": {
    "ExecuteTime": {
     "end_time": "2025-03-20T10:56:06.317997Z",
     "start_time": "2025-03-20T10:55:56.394564Z"
    }
   },
   "cell_type": "code",
   "source": "basebuilder.summarize_detailed_db('/Volumes/terry/PPIDB/libs/full_lib')",
   "id": "238074c22a66ea88",
   "outputs": [],
   "execution_count": 3
  },
  {
   "metadata": {
    "ExecuteTime": {
     "end_time": "2025-03-20T10:56:16.129700Z",
     "start_time": "2025-03-20T10:56:16.123680Z"
    }
   },
   "cell_type": "code",
   "source": "df = basebuilder.get_table_asdf('/Volumes/terry/PPIDB/libs/full_lib', 'AF2DB_SUMMARY')",
   "id": "7efc8ef559d92497",
   "outputs": [],
   "execution_count": 4
  },
  {
   "metadata": {
    "ExecuteTime": {
     "end_time": "2025-03-20T10:56:21.507172Z",
     "start_time": "2025-03-20T10:56:21.498240Z"
    }
   },
   "cell_type": "code",
   "source": "df",
   "id": "dbc4ea404aa7cdb2",
   "outputs": [
    {
     "data": {
      "text/plain": [
       "       ChainA   ChainB          ChainAB   GeneA   GeneB    pDockQ      ipTM  \\\n",
       "0       cdk16     dnd1       cdk16-dnd1    dnd1   cdk16  0.498200  0.345748   \n",
       "1       cdk16      gra        cdk16-gra     gra   cdk16  0.082428  0.331306   \n",
       "2       cdk16   ddx4_5     cdk16-ddx4_5    ddx4   cdk16  0.296728  0.324184   \n",
       "3       cdk16   tdrd7a     cdk16-tdrd7a  tdrd7a   cdk16  0.715271  0.587383   \n",
       "4    eif4ba_4   nanos3  eif4ba_4-nanos3  nanos3  eif4ba  0.170579  0.242012   \n",
       "..        ...      ...              ...     ...     ...       ...       ...   \n",
       "287  piwil1_2   tdrd7a  piwil1_2-tdrd7a  tdrd7a  piwil1  0.717489  0.311609   \n",
       "288   nup85_1   tdrd7a   nup85_1-tdrd7a  tdrd7a   nup85  0.738706  0.476502   \n",
       "289      tpx2   tdrd7a      tpx2-tdrd7a    tpx2  tdrd7a  0.228931  0.431784   \n",
       "290    tdrd7a  nup88_1   tdrd7a-nup88_1  tdrd7a   nup88  0.726008  0.352973   \n",
       "291    tdrd7a     gle1      tdrd7a-gle1    gle1  tdrd7a  0.716556  0.287256   \n",
       "\n",
       "          pTM      pLDDT                                          ChainAseq  \\\n",
       "0    0.525399  72.958560  MVGDMDAQQQELQQILNPQKLKSLQEWMQRNSITLTQVNGQRKYGG...   \n",
       "1    0.562287  63.712602  MTEAEDAVNEAWSFEHIKMDVSKRIVRHLEPARPLRRFRLNQVPQS...   \n",
       "2    0.501753  71.265216  MDDWEEDQSPVVSCSSGFGLGSNGSDGGFKSFYTGGAGNDKSNSEG...   \n",
       "3    0.493929  69.287784  MSDVELVKKMLRAVLQSSKHGVAMARLQGDYRALTGEMIPFRKFGH...   \n",
       "4    0.293573  57.828519  MAFSLLQFILSAHGSMETRNQDFQPWKDYMGLADMIRGMKRQEMQS...   \n",
       "..        ...        ...                                                ...   \n",
       "287  0.496331  78.510754  MSDVELVKKMLRAVLQSSKHGVAMARLQGDYRALTGEMIPFRKFGH...   \n",
       "288  0.494933  74.530063  MSDVELVKKMLRAVLQSSKHGVAMARLQGDYRALTGEMIPFRKFGH...   \n",
       "289  0.493329  57.171757  MDGGSTYSYAWDAPTHVLESIDDFALDPQDNADKWFGLQAASESGV...   \n",
       "290  0.437080  74.416195  MSDVELVKKMLRAVLQSSKHGVAMARLQGDYRALTGEMIPFRKFGH...   \n",
       "291  0.475768  70.985609  MPSENLRWETLEALKNSPKGKLKYSPDWVEKGEDVLAGCVEVPSLS...   \n",
       "\n",
       "                                             ChainBseq  ChainAseqLen  \\\n",
       "0    MDRMRKIKRQLSLTLRGGNSGDKSLSETISSQDTGAHSDSEAMPVG...           411   \n",
       "1    MDRMRKIKRQLSLTLRGGNSGDKSLSETISSQDTGAHSDSEAMPVG...           141   \n",
       "2    MDRMRKIKRQLSLTLRGGNSGDKSLSETISSQDTGAHSDSEAMPVG...           716   \n",
       "3    MDRMRKIKRQLSLTLRGGNSGDKSLSETISSQDTGAHSDSEAMPVG...          1079   \n",
       "4    MANKKKGKTLTLTDFLAEDSGGNAPPSYAPPKPTSWADETDDLEGD...           159   \n",
       "..                                                 ...           ...   \n",
       "287  MTGRARARSRGRGRGQEPAAPGAQPPVSQEAAKPVVSTPSEGQLVG...          1079   \n",
       "288  MEELDVEPSTTLVPAAGVLQKHLGFEWGPGDLLVYETNYKLRGSSS...          1079   \n",
       "289  MSDVELVKKMLRAVLQSSKHGVAMARLQGDYRALTGEMIPFRKFGH...           739   \n",
       "290  MASLAGDRWREALKNHDIFNNLQERLHLEPQGTSKRIAKNLTFCLN...          1079   \n",
       "291  MSDVELVKKMLRAVLQSSKHGVAMARLQGDYRALTGEMIPFRKFGH...           694   \n",
       "\n",
       "     ChainBseqLen  \n",
       "0             524  \n",
       "1             524  \n",
       "2             524  \n",
       "3             524  \n",
       "4             611  \n",
       "..            ...  \n",
       "287           858  \n",
       "288           412  \n",
       "289          1079  \n",
       "290           720  \n",
       "291          1079  \n",
       "\n",
       "[292 rows x 13 columns]"
      ],
      "text/html": [
       "<div>\n",
       "<style scoped>\n",
       "    .dataframe tbody tr th:only-of-type {\n",
       "        vertical-align: middle;\n",
       "    }\n",
       "\n",
       "    .dataframe tbody tr th {\n",
       "        vertical-align: top;\n",
       "    }\n",
       "\n",
       "    .dataframe thead th {\n",
       "        text-align: right;\n",
       "    }\n",
       "</style>\n",
       "<table border=\"1\" class=\"dataframe\">\n",
       "  <thead>\n",
       "    <tr style=\"text-align: right;\">\n",
       "      <th></th>\n",
       "      <th>ChainA</th>\n",
       "      <th>ChainB</th>\n",
       "      <th>ChainAB</th>\n",
       "      <th>GeneA</th>\n",
       "      <th>GeneB</th>\n",
       "      <th>pDockQ</th>\n",
       "      <th>ipTM</th>\n",
       "      <th>pTM</th>\n",
       "      <th>pLDDT</th>\n",
       "      <th>ChainAseq</th>\n",
       "      <th>ChainBseq</th>\n",
       "      <th>ChainAseqLen</th>\n",
       "      <th>ChainBseqLen</th>\n",
       "    </tr>\n",
       "  </thead>\n",
       "  <tbody>\n",
       "    <tr>\n",
       "      <th>0</th>\n",
       "      <td>cdk16</td>\n",
       "      <td>dnd1</td>\n",
       "      <td>cdk16-dnd1</td>\n",
       "      <td>dnd1</td>\n",
       "      <td>cdk16</td>\n",
       "      <td>0.498200</td>\n",
       "      <td>0.345748</td>\n",
       "      <td>0.525399</td>\n",
       "      <td>72.958560</td>\n",
       "      <td>MVGDMDAQQQELQQILNPQKLKSLQEWMQRNSITLTQVNGQRKYGG...</td>\n",
       "      <td>MDRMRKIKRQLSLTLRGGNSGDKSLSETISSQDTGAHSDSEAMPVG...</td>\n",
       "      <td>411</td>\n",
       "      <td>524</td>\n",
       "    </tr>\n",
       "    <tr>\n",
       "      <th>1</th>\n",
       "      <td>cdk16</td>\n",
       "      <td>gra</td>\n",
       "      <td>cdk16-gra</td>\n",
       "      <td>gra</td>\n",
       "      <td>cdk16</td>\n",
       "      <td>0.082428</td>\n",
       "      <td>0.331306</td>\n",
       "      <td>0.562287</td>\n",
       "      <td>63.712602</td>\n",
       "      <td>MTEAEDAVNEAWSFEHIKMDVSKRIVRHLEPARPLRRFRLNQVPQS...</td>\n",
       "      <td>MDRMRKIKRQLSLTLRGGNSGDKSLSETISSQDTGAHSDSEAMPVG...</td>\n",
       "      <td>141</td>\n",
       "      <td>524</td>\n",
       "    </tr>\n",
       "    <tr>\n",
       "      <th>2</th>\n",
       "      <td>cdk16</td>\n",
       "      <td>ddx4_5</td>\n",
       "      <td>cdk16-ddx4_5</td>\n",
       "      <td>ddx4</td>\n",
       "      <td>cdk16</td>\n",
       "      <td>0.296728</td>\n",
       "      <td>0.324184</td>\n",
       "      <td>0.501753</td>\n",
       "      <td>71.265216</td>\n",
       "      <td>MDDWEEDQSPVVSCSSGFGLGSNGSDGGFKSFYTGGAGNDKSNSEG...</td>\n",
       "      <td>MDRMRKIKRQLSLTLRGGNSGDKSLSETISSQDTGAHSDSEAMPVG...</td>\n",
       "      <td>716</td>\n",
       "      <td>524</td>\n",
       "    </tr>\n",
       "    <tr>\n",
       "      <th>3</th>\n",
       "      <td>cdk16</td>\n",
       "      <td>tdrd7a</td>\n",
       "      <td>cdk16-tdrd7a</td>\n",
       "      <td>tdrd7a</td>\n",
       "      <td>cdk16</td>\n",
       "      <td>0.715271</td>\n",
       "      <td>0.587383</td>\n",
       "      <td>0.493929</td>\n",
       "      <td>69.287784</td>\n",
       "      <td>MSDVELVKKMLRAVLQSSKHGVAMARLQGDYRALTGEMIPFRKFGH...</td>\n",
       "      <td>MDRMRKIKRQLSLTLRGGNSGDKSLSETISSQDTGAHSDSEAMPVG...</td>\n",
       "      <td>1079</td>\n",
       "      <td>524</td>\n",
       "    </tr>\n",
       "    <tr>\n",
       "      <th>4</th>\n",
       "      <td>eif4ba_4</td>\n",
       "      <td>nanos3</td>\n",
       "      <td>eif4ba_4-nanos3</td>\n",
       "      <td>nanos3</td>\n",
       "      <td>eif4ba</td>\n",
       "      <td>0.170579</td>\n",
       "      <td>0.242012</td>\n",
       "      <td>0.293573</td>\n",
       "      <td>57.828519</td>\n",
       "      <td>MAFSLLQFILSAHGSMETRNQDFQPWKDYMGLADMIRGMKRQEMQS...</td>\n",
       "      <td>MANKKKGKTLTLTDFLAEDSGGNAPPSYAPPKPTSWADETDDLEGD...</td>\n",
       "      <td>159</td>\n",
       "      <td>611</td>\n",
       "    </tr>\n",
       "    <tr>\n",
       "      <th>...</th>\n",
       "      <td>...</td>\n",
       "      <td>...</td>\n",
       "      <td>...</td>\n",
       "      <td>...</td>\n",
       "      <td>...</td>\n",
       "      <td>...</td>\n",
       "      <td>...</td>\n",
       "      <td>...</td>\n",
       "      <td>...</td>\n",
       "      <td>...</td>\n",
       "      <td>...</td>\n",
       "      <td>...</td>\n",
       "      <td>...</td>\n",
       "    </tr>\n",
       "    <tr>\n",
       "      <th>287</th>\n",
       "      <td>piwil1_2</td>\n",
       "      <td>tdrd7a</td>\n",
       "      <td>piwil1_2-tdrd7a</td>\n",
       "      <td>tdrd7a</td>\n",
       "      <td>piwil1</td>\n",
       "      <td>0.717489</td>\n",
       "      <td>0.311609</td>\n",
       "      <td>0.496331</td>\n",
       "      <td>78.510754</td>\n",
       "      <td>MSDVELVKKMLRAVLQSSKHGVAMARLQGDYRALTGEMIPFRKFGH...</td>\n",
       "      <td>MTGRARARSRGRGRGQEPAAPGAQPPVSQEAAKPVVSTPSEGQLVG...</td>\n",
       "      <td>1079</td>\n",
       "      <td>858</td>\n",
       "    </tr>\n",
       "    <tr>\n",
       "      <th>288</th>\n",
       "      <td>nup85_1</td>\n",
       "      <td>tdrd7a</td>\n",
       "      <td>nup85_1-tdrd7a</td>\n",
       "      <td>tdrd7a</td>\n",
       "      <td>nup85</td>\n",
       "      <td>0.738706</td>\n",
       "      <td>0.476502</td>\n",
       "      <td>0.494933</td>\n",
       "      <td>74.530063</td>\n",
       "      <td>MSDVELVKKMLRAVLQSSKHGVAMARLQGDYRALTGEMIPFRKFGH...</td>\n",
       "      <td>MEELDVEPSTTLVPAAGVLQKHLGFEWGPGDLLVYETNYKLRGSSS...</td>\n",
       "      <td>1079</td>\n",
       "      <td>412</td>\n",
       "    </tr>\n",
       "    <tr>\n",
       "      <th>289</th>\n",
       "      <td>tpx2</td>\n",
       "      <td>tdrd7a</td>\n",
       "      <td>tpx2-tdrd7a</td>\n",
       "      <td>tpx2</td>\n",
       "      <td>tdrd7a</td>\n",
       "      <td>0.228931</td>\n",
       "      <td>0.431784</td>\n",
       "      <td>0.493329</td>\n",
       "      <td>57.171757</td>\n",
       "      <td>MDGGSTYSYAWDAPTHVLESIDDFALDPQDNADKWFGLQAASESGV...</td>\n",
       "      <td>MSDVELVKKMLRAVLQSSKHGVAMARLQGDYRALTGEMIPFRKFGH...</td>\n",
       "      <td>739</td>\n",
       "      <td>1079</td>\n",
       "    </tr>\n",
       "    <tr>\n",
       "      <th>290</th>\n",
       "      <td>tdrd7a</td>\n",
       "      <td>nup88_1</td>\n",
       "      <td>tdrd7a-nup88_1</td>\n",
       "      <td>tdrd7a</td>\n",
       "      <td>nup88</td>\n",
       "      <td>0.726008</td>\n",
       "      <td>0.352973</td>\n",
       "      <td>0.437080</td>\n",
       "      <td>74.416195</td>\n",
       "      <td>MSDVELVKKMLRAVLQSSKHGVAMARLQGDYRALTGEMIPFRKFGH...</td>\n",
       "      <td>MASLAGDRWREALKNHDIFNNLQERLHLEPQGTSKRIAKNLTFCLN...</td>\n",
       "      <td>1079</td>\n",
       "      <td>720</td>\n",
       "    </tr>\n",
       "    <tr>\n",
       "      <th>291</th>\n",
       "      <td>tdrd7a</td>\n",
       "      <td>gle1</td>\n",
       "      <td>tdrd7a-gle1</td>\n",
       "      <td>gle1</td>\n",
       "      <td>tdrd7a</td>\n",
       "      <td>0.716556</td>\n",
       "      <td>0.287256</td>\n",
       "      <td>0.475768</td>\n",
       "      <td>70.985609</td>\n",
       "      <td>MPSENLRWETLEALKNSPKGKLKYSPDWVEKGEDVLAGCVEVPSLS...</td>\n",
       "      <td>MSDVELVKKMLRAVLQSSKHGVAMARLQGDYRALTGEMIPFRKFGH...</td>\n",
       "      <td>694</td>\n",
       "      <td>1079</td>\n",
       "    </tr>\n",
       "  </tbody>\n",
       "</table>\n",
       "<p>292 rows × 13 columns</p>\n",
       "</div>"
      ]
     },
     "execution_count": 6,
     "metadata": {},
     "output_type": "execute_result"
    }
   ],
   "execution_count": 6
  },
  {
   "metadata": {
    "ExecuteTime": {
     "end_time": "2025-03-20T10:58:39.366914Z",
     "start_time": "2025-03-20T10:58:39.362791Z"
    }
   },
   "cell_type": "code",
   "source": [
    "screen_list = ['dnd1']\n",
    "df_screen = df[(df['GeneA'].isin(screen_list)) | (df['GeneB'].isin(screen_list))].copy()"
   ],
   "id": "5d3da69ba6507165",
   "outputs": [],
   "execution_count": 7
  },
  {
   "metadata": {
    "ExecuteTime": {
     "end_time": "2025-03-20T11:14:42.096977Z",
     "start_time": "2025-03-20T11:14:41.846874Z"
    }
   },
   "cell_type": "code",
   "source": [
    "sns.set_style('ticks')\n",
    "sns.stripplot()\n",
    "fig, ax = plt.subplots()\n",
    "sns.scatterplot(data=df_screen, x='pTM', y='ipTM', ax=ax, s=5, alpha=0.8, edgecolors='black', linewidth=2)\n",
    "ax.set_title('Pairwise Prediction of protein-protein interactions using AlphaFold2')\n",
    "ax.set_xlim(0, 1)\n",
    "ax.set_ylim(0, 1)\n",
    "ax.set_aspect('equal')\n",
    "sns.despine()\n",
    "fig.savefig('/Volumes/terry/PPIDB/for_others/LS/dnd_interactome.pdf')"
   ],
   "id": "89b0c6be7e7f317a",
   "outputs": [
    {
     "data": {
      "text/plain": [
       "<Figure size 640x480 with 1 Axes>"
      ],
      "image/png": "[encoded data removed]"
     },
     "metadata": {},
     "output_type": "display_data"
    },
    {
     "data": {
      "text/plain": [
       "<Figure size 640x480 with 1 Axes>"
      ],
      "image/png": "[encoded data removed]"
     },
     "metadata": {},
     "output_type": "display_data"
    }
   ],
   "execution_count": 13
  },
  {
   "metadata": {
    "ExecuteTime": {
     "end_time": "2025-03-20T11:30:47.971174Z",
     "start_time": "2025-03-20T11:30:47.767394Z"
    }
   },
   "cell_type": "code",
   "source": [
    "# Plot using plotly express\n",
    "fig = px.scatter(df_screen, x='pTM', y='ipTM',\n",
    "                 hover_data=['ChainA', 'ChainB', 'pLDDT', 'pDockQ'],\n",
    "                 range_x=[0, 1],\n",
    "                 range_y=[0, 1],\n",
    "                 template=\"simple_white\",\n",
    "                 opacity=0.75)\n",
    "fig.update_layout(autosize=False, width=800, height=800)\n",
    "fig.write_html(f'/Volumes/terry/PPIDB/for_others/LS/{datetime.datetime.now().strftime(\"%Y%m%d\")}_dnd_screen.html')\n",
    "fig.show()"
   ],
   "id": "cb25feae1885a689",
   "outputs": [
    {
     "data": {
      "application/vnd.plotly.v1+json": {
       "data": [
        {
         "customdata": [
          [
           "cdk16",
           "dnd1",
           72.95855973396054,
           0.49820036174540905
          ],
          [
           "eif3ha",
           "dnd1",
           66.19901617676916,
           0.38189050680906467
          ],
          [
           "thpo",
           "dnd1",
           71.18394670902354,
           0.17773210517802024
          ],
          [
           "ran",
           "dnd1",
           75.78720135112432,
           0.41750680947488705
          ],
          [
           "celf2_3",
           "dnd1",
           53.02980939438296,
           0.16450395149801014
          ],
          [
           "eif3bb_1",
           "dnd1",
           69.99461453365905,
           0.04290305031515007
          ],
          [
           "lifeact",
           "dnd1",
           77.45557019324079,
           0.0
          ],
          [
           "eif3d_4",
           "dnd1",
           74.76950687586708,
           0.7066585582332158
          ],
          [
           "ranbp1",
           "dnd1",
           76.99329463076705,
           0.5588143828101308
          ],
          [
           "seh1l_1",
           "dnd1",
           73.52760513245254,
           0.7049736949379084
          ],
          [
           "igfbp3",
           "dnd1",
           57.76131510753797,
           0.11285646631168644
          ],
          [
           "noto",
           "dnd1",
           56.87509288060108,
           0.3346247819778767
          ],
          [
           "apela_1",
           "dnd1",
           65.57748710476292,
           0.29186821436213795
          ],
          [
           "dnd1",
           "dnd1",
           60.38905692106435,
           0.10390669418677609
          ],
          [
           "dnd1",
           "gra",
           65.30174586694139,
           0.21112208636890273
          ],
          [
           "dnd1",
           "sec13",
           78.51479973751472,
           0.72183940156324
          ],
          [
           "dnd1",
           "mnx1",
           53.59931785836122,
           0.2067413569526954
          ],
          [
           "dnd1",
           "pabpc1a",
           72.5624003950126,
           0.713555806953109
          ],
          [
           "dnd1",
           "sec13_1",
           78.16573015580465,
           0.576220614772483
          ],
          [
           "dnd1",
           "celf2_7",
           52.943018527631736,
           0.20052890996022063
          ],
          [
           "dnd1",
           "elavl3",
           60.56357957100783,
           0.12192456234649177
          ],
          [
           "dnd1",
           "imp3",
           79.162075499623,
           0.1948847616056823
          ],
          [
           "dnd1",
           "eif3ba",
           78.59752419524233,
           0.633729468995111
          ],
          [
           "dnd1",
           "ccn2b",
           60.078200921715684,
           0.48775252828164917
          ],
          [
           "dnd1",
           "nanos2",
           66.29049327091133,
           0.3850990765497126
          ],
          [
           "dnd1",
           "ddx4_5",
           72.98558683033997,
           0.5315250420140428
          ],
          [
           "dnd1",
           "buc",
           50.246120719526935,
           0.6897629981071273
          ],
          [
           "dnd1",
           "rad21a",
           48.870059031015515,
           0.07800552761159738
          ],
          [
           "dnd1",
           "eif3ea_2",
           68.80612685883497,
           0.12517494999795395
          ],
          [
           "dnd1",
           "nanos1",
           61.87265714468741,
           0.5801352046331106
          ],
          [
           "dnd1",
           "eif3eb",
           68.61718656677071,
           0.1267873997942054
          ],
          [
           "dnd1",
           "mydgf",
           67.24672823168801,
           0.24212065156295653
          ],
          [
           "dnd1",
           "cdx4",
           55.206164218040286,
           0.4244103248692705
          ],
          [
           "dnd1",
           "mixl1",
           51.39564230010039,
           0.1319649366918757
          ],
          [
           "dnd1",
           "eef2b_1",
           76.8275594888838,
           0.09639433857022778
          ],
          [
           "dnd1",
           "gsc",
           58.28441384120923,
           0.09254817592506968
          ],
          [
           "dnd1",
           "twist2",
           59.64433960174545,
           0.4866551781828563
          ],
          [
           "dnd1",
           "samd4a_1",
           67.85646107553647,
           0.38742006436549575
          ],
          [
           "dnd1",
           "eif4ea_1",
           77.587474998209,
           0.694163707146826
          ],
          [
           "dnd1",
           "gata3",
           45.06101762087591,
           0.08846901938150546
          ],
          [
           "dnd1",
           "gsc_2",
           58.41913087901309,
           0.08744770052305188
          ],
          [
           "dnd1",
           "eif4a1a",
           71.87541283274635,
           0.388357030428803
          ],
          [
           "dnd1",
           "eif4g1a_1",
           52.470968775223426,
           0.6652076925069775
          ],
          [
           "dnd1",
           "eif4a1b_2",
           71.0020390598684,
           0.48015327153743315
          ],
          [
           "dnd1",
           "nop56_1",
           76.13295258004887,
           0.17536810758069904
          ],
          [
           "dnd1",
           "yap1",
           45.1820350229461,
           0.2874505403250712
          ],
          [
           "dnd1",
           "eef2b",
           75.72559818054151,
           0.14789472754121238
          ],
          [
           "dnd1",
           "eif3k",
           82.0380274534417,
           0.6246734302211984
          ],
          [
           "dnd1",
           "nanos3",
           68.28978023698014,
           0.6436026801060953
          ],
          [
           "dnd1",
           "eif4ea",
           78.51006212472127,
           0.7178807907231256
          ],
          [
           "dnd1",
           "larp1",
           50.89304366863817,
           0.5474280414710221
          ],
          [
           "dnd1",
           "prmt5_1",
           82.43796892697208,
           0.44337990359307444
          ],
          [
           "dnd1",
           "panx1a",
           75.86861320533262,
           0.2759204166384173
          ],
          [
           "dnd1",
           "eif1b",
           76.28070862875171,
           0.44093736599811467
          ],
          [
           "dnd1",
           "eif4a1b",
           68.34159450192169,
           0.2636954987658719
          ],
          [
           "dnd1",
           "eif4a3",
           72.14461345809057,
           0.3052158829291588
          ],
          [
           "dnd1",
           "dazl_2",
           73.09643531802419,
           0.6007383993429134
          ],
          [
           "dnd1",
           "prmt5",
           83.98258092460512,
           0.4692563040054506
          ],
          [
           "dnd1",
           "eif3f",
           75.6738711000113,
           0.5870838522178282
          ],
          [
           "dnd1",
           "eif3eb_5",
           69.18762334154576,
           0.19113415792120883
          ],
          [
           "dnd1",
           "kpna4_1",
           75.05896114351357,
           0.7133879083428626
          ],
          [
           "dnd1",
           "ranbp9",
           73.89131760113781,
           0.706362677263202
          ],
          [
           "dnd1",
           "piwil1_2",
           82.52940914669352,
           0.44251007103672496
          ],
          [
           "dnd1",
           "smad2",
           65.5829139459815,
           0.23846076838010435
          ],
          [
           "dnd1",
           "tdrd7a",
           71.20456103774907,
           0.7286162531889024
          ],
          [
           "dnd1",
           "eif2s3_1",
           70.48262959164246,
           0.18939466637342992
          ]
         ],
         "hovertemplate": "pTM=%{x}<br>ipTM=%{y}<br>ChainA=%{customdata[0]}<br>ChainB=%{customdata[1]}<br>pLDDT=%{customdata[2]}<br>pDockQ=%{customdata[3]}<extra></extra>",
         "legendgroup": "",
         "marker": {
          "color": "#1F77B4",
          "opacity": 0.75,
          "symbol": "circle"
         },
         "mode": "markers",
         "name": "",
         "orientation": "v",
         "showlegend": false,
         "x": [
          0.5253994290307149,
          0.43139998944791835,
          0.5709979533806792,
          0.5310889550254081,
          0.32178791705163,
          0.4959515727844549,
          0.4776094461694632,
          0.605258963802426,
          0.43108283155099336,
          0.567890821495727,
          0.3946235624124275,
          0.455750576961949,
          0.49312061311018845,
          0.34265293942805286,
          0.5136748030958638,
          0.5225530163951783,
          0.41902386714379375,
          0.3987328948833785,
          0.5462185218757383,
          0.3202798144268598,
          0.3730959793431732,
          0.42963904379974704,
          0.5499357280949935,
          0.39308055883779386,
          0.5435464939864371,
          0.5248214181370168,
          0.45253222530365433,
          0.30273561770307555,
          0.48016658622989306,
          0.5370541484432318,
          0.49356681231737376,
          0.46169279739105606,
          0.39242954252917694,
          0.37565910245280076,
          0.5993371831277826,
          0.4145994112976357,
          0.42791271856678575,
          0.3955996264417585,
          0.5636205107550118,
          0.3583092190660412,
          0.43651579761530446,
          0.49237331467439327,
          0.3213783911821982,
          0.4889396544246576,
          0.5177757842519068,
          0.33548413623704965,
          0.5712377734384433,
          0.6077422194204669,
          0.6093523617008033,
          0.5878049691646418,
          0.32447241173039154,
          0.6242332654526425,
          0.5106198723199814,
          0.5742285275395205,
          0.37320000254702146,
          0.5154496451076798,
          0.4744484091336281,
          0.6521797252902934,
          0.44186761430640126,
          0.48515162379061505,
          0.5505125968230282,
          0.40369108277489923,
          0.6990546353217801,
          0.48579149494580903,
          0.5716161280332035,
          0.5294341479166702
         ],
         "xaxis": "x",
         "y": [
          0.345747709274292,
          0.20895758271217346,
          0.6826260685920715,
          0.4045695662498474,
          0.16357240080833435,
          0.18348932266235352,
          0.2695132791996002,
          0.6744331121444702,
          0.4804574251174927,
          0.4048415422439575,
          0.2248097062110901,
          0.42698609828948975,
          0.2815696895122528,
          0.20152240991592407,
          0.4069238305091858,
          0.3950519561767578,
          0.34171241521835327,
          0.374899685382843,
          0.32545846700668335,
          0.16227686405181885,
          0.20735642313957214,
          0.32799625396728516,
          0.3202991187572479,
          0.30104756355285645,
          0.5944746732711792,
          0.4286726415157318,
          0.3341481387615204,
          0.18235954642295837,
          0.22513961791992188,
          0.5342521071434021,
          0.18188312649726868,
          0.32655200362205505,
          0.240040123462677,
          0.23232123255729675,
          0.203090637922287,
          0.3417764902114868,
          0.34643661975860596,
          0.31506046652793884,
          0.7449727058410645,
          0.2263314127922058,
          0.3987579941749573,
          0.20955851674079895,
          0.4360848367214203,
          0.21365267038345337,
          0.4201928675174713,
          0.2471710443496704,
          0.17346307635307312,
          0.7233511209487915,
          0.577202558517456,
          0.6947801113128662,
          0.2918388545513153,
          0.31258976459503174,
          0.2977987229824066,
          0.5457255840301514,
          0.2245742529630661,
          0.17789442837238312,
          0.37331634759902954,
          0.31635749340057373,
          0.4547251760959625,
          0.27708899974823,
          0.5072426795959473,
          0.2591990828514099,
          0.36689460277557373,
          0.5831824541091919,
          0.36172693967819214,
          0.16908587515354156
         ],
         "yaxis": "y",
         "type": "scatter"
        }
       ],
       "layout": {
        "template": {
         "data": {
          "barpolar": [
           {
            "marker": {
             "line": {
              "color": "white",
              "width": 0.5
             },
             "pattern": {
              "fillmode": "overlay",
              "size": 10,
              "solidity": 0.2
             }
            },
            "type": "barpolar"
           }
          ],
          "bar": [
           {
            "error_x": {
             "color": "rgb(36,36,36)"
            },
            "error_y": {
             "color": "rgb(36,36,36)"
            },
            "marker": {
             "line": {
              "color": "white",
              "width": 0.5
             },
             "pattern": {
              "fillmode": "overlay",
              "size": 10,
              "solidity": 0.2
             }
            },
            "type": "bar"
           }
          ],
          "carpet": [
           {
            "aaxis": {
             "endlinecolor": "rgb(36,36,36)",
             "gridcolor": "white",
             "linecolor": "white",
             "minorgridcolor": "white",
             "startlinecolor": "rgb(36,36,36)"
            },
            "baxis": {
             "endlinecolor": "rgb(36,36,36)",
             "gridcolor": "white",
             "linecolor": "white",
             "minorgridcolor": "white",
             "startlinecolor": "rgb(36,36,36)"
            },
            "type": "carpet"
           }
          ],
          "choropleth": [
           {
            "colorbar": {
             "outlinewidth": 1,
             "tickcolor": "rgb(36,36,36)",
             "ticks": "outside"
            },
            "type": "choropleth"
           }
          ],
          "contourcarpet": [
           {
            "colorbar": {
             "outlinewidth": 1,
             "tickcolor": "rgb(36,36,36)",
             "ticks": "outside"
            },
            "type": "contourcarpet"
           }
          ],
          "contour": [
           {
            "colorbar": {
             "outlinewidth": 1,
             "tickcolor": "rgb(36,36,36)",
             "ticks": "outside"
            },
            "colorscale": [
             [
              0.0,
              "#440154"
             ],
             [
              0.1111111111111111,
              "#482878"
             ],
             [
              0.2222222222222222,
              "#3e4989"
             ],
             [
              0.3333333333333333,
              "#31688e"
             ],
             [
              0.4444444444444444,
              "#26828e"
             ],
             [
              0.5555555555555556,
              "#1f9e89"
             ],
             [
              0.6666666666666666,
              "#35b779"
             ],
             [
              0.7777777777777778,
              "#6ece58"
             ],
             [
              0.8888888888888888,
              "#b5de2b"
             ],
             [
              1.0,
              "#fde725"
             ]
            ],
            "type": "contour"
           }
          ],
          "heatmapgl": [
           {
            "colorbar": {
             "outlinewidth": 1,
             "tickcolor": "rgb(36,36,36)",
             "ticks": "outside"
            },
            "colorscale": [
             [
              0.0,
              "#440154"
             ],
             [
              0.1111111111111111,
              "#482878"
             ],
             [
              0.2222222222222222,
              "#3e4989"
             ],
             [
              0.3333333333333333,
              "#31688e"
             ],
             [
              0.4444444444444444,
              "#26828e"
             ],
             [
              0.5555555555555556,
              "#1f9e89"
             ],
             [
              0.6666666666666666,
              "#35b779"
             ],
             [
              0.7777777777777778,
              "#6ece58"
             ],
             [
              0.8888888888888888,
              "#b5de2b"
             ],
             [
              1.0,
              "#fde725"
             ]
            ],
            "type": "heatmapgl"
           }
          ],
          "heatmap": [
           {
            "colorbar": {
             "outlinewidth": 1,
             "tickcolor": "rgb(36,36,36)",
             "ticks": "outside"
            },
            "colorscale": [
             [
              0.0,
              "#440154"
             ],
             [
              0.1111111111111111,
              "#482878"
             ],
             [
              0.2222222222222222,
              "#3e4989"
             ],
             [
              0.3333333333333333,
              "#31688e"
             ],
             [
              0.4444444444444444,
              "#26828e"
             ],
             [
              0.5555555555555556,
              "#1f9e89"
             ],
             [
              0.6666666666666666,
              "#35b779"
             ],
             [
              0.7777777777777778,
              "#6ece58"
             ],
             [
              0.8888888888888888,
              "#b5de2b"
             ],
             [
              1.0,
              "#fde725"
             ]
            ],
            "type": "heatmap"
           }
          ],
          "histogram2dcontour": [
           {
            "colorbar": {
             "outlinewidth": 1,
             "tickcolor": "rgb(36,36,36)",
             "ticks": "outside"
            },
            "colorscale": [
             [
              0.0,
              "#440154"
             ],
             [
              0.1111111111111111,
              "#482878"
             ],
             [
              0.2222222222222222,
              "#3e4989"
             ],
             [
              0.3333333333333333,
              "#31688e"
             ],
             [
              0.4444444444444444,
              "#26828e"
             ],
             [
              0.5555555555555556,
              "#1f9e89"
             ],
             [
              0.6666666666666666,
              "#35b779"
             ],
             [
              0.7777777777777778,
              "#6ece58"
             ],
             [
              0.8888888888888888,
              "#b5de2b"
             ],
             [
              1.0,
              "#fde725"
             ]
            ],
            "type": "histogram2dcontour"
           }
          ],
          "histogram2d": [
           {
            "colorbar": {
             "outlinewidth": 1,
             "tickcolor": "rgb(36,36,36)",
             "ticks": "outside"
            },
            "colorscale": [
             [
              0.0,
              "#440154"
             ],
             [
              0.1111111111111111,
              "#482878"
             ],
             [
              0.2222222222222222,
              "#3e4989"
             ],
             [
              0.3333333333333333,
              "#31688e"
             ],
             [
              0.4444444444444444,
              "#26828e"
             ],
             [
              0.5555555555555556,
              "#1f9e89"
             ],
             [
              0.6666666666666666,
              "#35b779"
             ],
             [
              0.7777777777777778,
              "#6ece58"
             ],
             [
              0.8888888888888888,
              "#b5de2b"
             ],
             [
              1.0,
              "#fde725"
             ]
            ],
            "type": "histogram2d"
           }
          ],
          "histogram": [
           {
            "marker": {
             "line": {
              "color": "white",
              "width": 0.6
             }
            },
            "type": "histogram"
           }
          ],
          "mesh3d": [
           {
            "colorbar": {
             "outlinewidth": 1,
             "tickcolor": "rgb(36,36,36)",
             "ticks": "outside"
            },
            "type": "mesh3d"
           }
          ],
          "parcoords": [
           {
            "line": {
             "colorbar": {
              "outlinewidth": 1,
              "tickcolor": "rgb(36,36,36)",
              "ticks": "outside"
             }
            },
            "type": "parcoords"
           }
          ],
          "pie": [
           {
            "automargin": true,
            "type": "pie"
           }
          ],
          "scatter3d": [
           {
            "line": {
             "colorbar": {
              "outlinewidth": 1,
              "tickcolor": "rgb(36,36,36)",
              "ticks": "outside"
             }
            },
            "marker": {
             "colorbar": {
              "outlinewidth": 1,
              "tickcolor": "rgb(36,36,36)",
              "ticks": "outside"
             }
            },
            "type": "scatter3d"
           }
          ],
          "scattercarpet": [
           {
            "marker": {
             "colorbar": {
              "outlinewidth": 1,
              "tickcolor": "rgb(36,36,36)",
              "ticks": "outside"
             }
            },
            "type": "scattercarpet"
           }
          ],
          "scattergeo": [
           {
            "marker": {
             "colorbar": {
              "outlinewidth": 1,
              "tickcolor": "rgb(36,36,36)",
              "ticks": "outside"
             }
            },
            "type": "scattergeo"
           }
          ],
          "scattergl": [
           {
            "marker": {
             "colorbar": {
              "outlinewidth": 1,
              "tickcolor": "rgb(36,36,36)",
              "ticks": "outside"
             }
            },
            "type": "scattergl"
           }
          ],
          "scattermapbox": [
           {
            "marker": {
             "colorbar": {
              "outlinewidth": 1,
              "tickcolor": "rgb(36,36,36)",
              "ticks": "outside"
             }
            },
            "type": "scattermapbox"
           }
          ],
          "scatterpolargl": [
           {
            "marker": {
             "colorbar": {
              "outlinewidth": 1,
              "tickcolor": "rgb(36,36,36)",
              "ticks": "outside"
             }
            },
            "type": "scatterpolargl"
           }
          ],
          "scatterpolar": [
           {
            "marker": {
             "colorbar": {
              "outlinewidth": 1,
              "tickcolor": "rgb(36,36,36)",
              "ticks": "outside"
             }
            },
            "type": "scatterpolar"
           }
          ],
          "scatter": [
           {
            "fillpattern": {
             "fillmode": "overlay",
             "size": 10,
             "solidity": 0.2
            },
            "type": "scatter"
           }
          ],
          "scatterternary": [
           {
            "marker": {
             "colorbar": {
              "outlinewidth": 1,
              "tickcolor": "rgb(36,36,36)",
              "ticks": "outside"
             }
            },
            "type": "scatterternary"
           }
          ],
          "surface": [
           {
            "colorbar": {
             "outlinewidth": 1,
             "tickcolor": "rgb(36,36,36)",
             "ticks": "outside"
            },
            "colorscale": [
             [
              0.0,
              "#440154"
             ],
             [
              0.1111111111111111,
              "#482878"
             ],
             [
              0.2222222222222222,
              "#3e4989"
             ],
             [
              0.3333333333333333,
              "#31688e"
             ],
             [
              0.4444444444444444,
              "#26828e"
             ],
             [
              0.5555555555555556,
              "#1f9e89"
             ],
             [
              0.6666666666666666,
              "#35b779"
             ],
             [
              0.7777777777777778,
              "#6ece58"
             ],
             [
              0.8888888888888888,
              "#b5de2b"
             ],
             [
              1.0,
              "#fde725"
             ]
            ],
            "type": "surface"
           }
          ],
          "table": [
           {
            "cells": {
             "fill": {
              "color": "rgb(237,237,237)"
             },
             "line": {
              "color": "white"
             }
            },
            "header": {
             "fill": {
              "color": "rgb(217,217,217)"
             },
             "line": {
              "color": "white"
             }
            },
            "type": "table"
           }
          ]
         },
         "layout": {
          "annotationdefaults": {
           "arrowhead": 0,
           "arrowwidth": 1
          },
          "autotypenumbers": "strict",
          "coloraxis": {
           "colorbar": {
            "outlinewidth": 1,
            "tickcolor": "rgb(36,36,36)",
            "ticks": "outside"
           }
          },
          "colorscale": {
           "diverging": [
            [
             0.0,
             "rgb(103,0,31)"
            ],
            [
             0.1,
             "rgb(178,24,43)"
            ],
            [
             0.2,
             "rgb(214,96,77)"
            ],
            [
             0.3,
             "rgb(244,165,130)"
            ],
            [
             0.4,
             "rgb(253,219,199)"
            ],
            [
             0.5,
             "rgb(247,247,247)"
            ],
            [
             0.6,
             "rgb(209,229,240)"
            ],
            [
             0.7,
             "rgb(146,197,222)"
            ],
            [
             0.8,
             "rgb(67,147,195)"
            ],
            [
             0.9,
             "rgb(33,102,172)"
            ],
            [
             1.0,
             "rgb(5,48,97)"
            ]
           ],
           "sequential": [
            [
             0.0,
             "#440154"
            ],
            [
             0.1111111111111111,
             "#482878"
            ],
            [
             0.2222222222222222,
             "#3e4989"
            ],
            [
             0.3333333333333333,
             "#31688e"
            ],
            [
             0.4444444444444444,
             "#26828e"
            ],
            [
             0.5555555555555556,
             "#1f9e89"
            ],
            [
             0.6666666666666666,
             "#35b779"
            ],
            [
             0.7777777777777778,
             "#6ece58"
            ],
            [
             0.8888888888888888,
             "#b5de2b"
            ],
            [
             1.0,
             "#fde725"
            ]
           ],
           "sequentialminus": [
            [
             0.0,
             "#440154"
            ],
            [
             0.1111111111111111,
             "#482878"
            ],
            [
             0.2222222222222222,
             "#3e4989"
            ],
            [
             0.3333333333333333,
             "#31688e"
            ],
            [
             0.4444444444444444,
             "#26828e"
            ],
            [
             0.5555555555555556,
             "#1f9e89"
            ],
            [
             0.6666666666666666,
             "#35b779"
            ],
            [
             0.7777777777777778,
             "#6ece58"
            ],
            [
             0.8888888888888888,
             "#b5de2b"
            ],
            [
             1.0,
             "#fde725"
            ]
           ]
          },
          "colorway": [
           "#1F77B4",
           "#FF7F0E",
           "#2CA02C",
           "#D62728",
           "#9467BD",
           "#8C564B",
           "#E377C2",
           "#7F7F7F",
           "#BCBD22",
           "#17BECF"
          ],
          "font": {
           "color": "rgb(36,36,36)"
          },
          "geo": {
           "bgcolor": "white",
           "lakecolor": "white",
           "landcolor": "white",
           "showlakes": true,
           "showland": true,
           "subunitcolor": "white"
          },
          "hoverlabel": {
           "align": "left"
          },
          "hovermode": "closest",
          "mapbox": {
           "style": "light"
          },
          "paper_bgcolor": "white",
          "plot_bgcolor": "white",
          "polar": {
           "angularaxis": {
            "gridcolor": "rgb(232,232,232)",
            "linecolor": "rgb(36,36,36)",
            "showgrid": false,
            "showline": true,
            "ticks": "outside"
           },
           "bgcolor": "white",
           "radialaxis": {
            "gridcolor": "rgb(232,232,232)",
            "linecolor": "rgb(36,36,36)",
            "showgrid": false,
            "showline": true,
            "ticks": "outside"
           }
          },
          "scene": {
           "xaxis": {
            "backgroundcolor": "white",
            "gridcolor": "rgb(232,232,232)",
            "gridwidth": 2,
            "linecolor": "rgb(36,36,36)",
            "showbackground": true,
            "showgrid": false,
            "showline": true,
            "ticks": "outside",
            "zeroline": false,
            "zerolinecolor": "rgb(36,36,36)"
           },
           "yaxis": {
            "backgroundcolor": "white",
            "gridcolor": "rgb(232,232,232)",
            "gridwidth": 2,
            "linecolor": "rgb(36,36,36)",
            "showbackground": true,
            "showgrid": false,
            "showline": true,
            "ticks": "outside",
            "zeroline": false,
            "zerolinecolor": "rgb(36,36,36)"
           },
           "zaxis": {
            "backgroundcolor": "white",
            "gridcolor": "rgb(232,232,232)",
            "gridwidth": 2,
            "linecolor": "rgb(36,36,36)",
            "showbackground": true,
            "showgrid": false,
            "showline": true,
            "ticks": "outside",
            "zeroline": false,
            "zerolinecolor": "rgb(36,36,36)"
           }
          },
          "shapedefaults": {
           "fillcolor": "black",
           "line": {
            "width": 0
           },
           "opacity": 0.3
          },
          "ternary": {
           "aaxis": {
            "gridcolor": "rgb(232,232,232)",
            "linecolor": "rgb(36,36,36)",
            "showgrid": false,
            "showline": true,
            "ticks": "outside"
           },
           "baxis": {
            "gridcolor": "rgb(232,232,232)",
            "linecolor": "rgb(36,36,36)",
            "showgrid": false,
            "showline": true,
            "ticks": "outside"
           },
           "bgcolor": "white",
           "caxis": {
            "gridcolor": "rgb(232,232,232)",
            "linecolor": "rgb(36,36,36)",
            "showgrid": false,
            "showline": true,
            "ticks": "outside"
           }
          },
          "title": {
           "x": 0.05
          },
          "xaxis": {
           "automargin": true,
           "gridcolor": "rgb(232,232,232)",
           "linecolor": "rgb(36,36,36)",
           "showgrid": false,
           "showline": true,
           "ticks": "outside",
           "title": {
            "standoff": 15
           },
           "zeroline": false,
           "zerolinecolor": "rgb(36,36,36)"
          },
          "yaxis": {
           "automargin": true,
           "gridcolor": "rgb(232,232,232)",
           "linecolor": "rgb(36,36,36)",
           "showgrid": false,
           "showline": true,
           "ticks": "outside",
           "title": {
            "standoff": 15
           },
           "zeroline": false,
           "zerolinecolor": "rgb(36,36,36)"
          }
         }
        },
        "xaxis": {
         "anchor": "y",
         "domain": [
          0.0,
          1.0
         ],
         "title": {
          "text": "pTM"
         },
         "range": [
          0,
          1
         ]
        },
        "yaxis": {
         "anchor": "x",
         "domain": [
          0.0,
          1.0
         ],
         "title": {
          "text": "ipTM"
         },
         "range": [
          0,
          1
         ]
        },
        "legend": {
         "tracegroupgap": 0
        },
        "margin": {
         "t": 60
        },
        "autosize": false,
        "width": 800,
        "height": 800
       },
       "config": {
        "plotlyServerURL": "https://plot.ly"
       }
      },
      "text/html": [
       "<div>                            <div id=\"b00ee3d2-93cb-49e9-81a0-05d2bb5b00da\" class=\"plotly-graph-div\" style=\"height:800px; width:800px;\"></div>            <script type=\"text/javascript\">                require([\"plotly\"], function(Plotly) {                    window.PLOTLYENV=window.PLOTLYENV || {};                                    if (document.getElementById(\"b00ee3d2-93cb-49e9-81a0-05d2bb5b00da\")) {                    Plotly.newPlot(                        \"b00ee3d2-93cb-49e9-81a0-05d2bb5b00da\",                        [{\"customdata\":[[\"cdk16\",\"dnd1\",72.95855973396054,0.49820036174540905],[\"eif3ha\",\"dnd1\",66.19901617676916,0.38189050680906467],[\"thpo\",\"dnd1\",71.18394670902354,0.17773210517802024],[\"ran\",\"dnd1\",75.78720135112432,0.41750680947488705],[\"celf2_3\",\"dnd1\",53.02980939438296,0.16450395149801014],[\"eif3bb_1\",\"dnd1\",69.99461453365905,0.04290305031515007],[\"lifeact\",\"dnd1\",77.45557019324079,0.0],[\"eif3d_4\",\"dnd1\",74.76950687586708,0.7066585582332158],[\"ranbp1\",\"dnd1\",76.99329463076705,0.5588143828101308],[\"seh1l_1\",\"dnd1\",73.52760513245254,0.7049736949379084],[\"igfbp3\",\"dnd1\",57.76131510753797,0.11285646631168644],[\"noto\",\"dnd1\",56.87509288060108,0.3346247819778767],[\"apela_1\",\"dnd1\",65.57748710476292,0.29186821436213795],[\"dnd1\",\"dnd1\",60.38905692106435,0.10390669418677609],[\"dnd1\",\"gra\",65.30174586694139,0.21112208636890273],[\"dnd1\",\"sec13\",78.51479973751472,0.72183940156324],[\"dnd1\",\"mnx1\",53.59931785836122,0.2067413569526954],[\"dnd1\",\"pabpc1a\",72.5624003950126,0.713555806953109],[\"dnd1\",\"sec13_1\",78.16573015580465,0.576220614772483],[\"dnd1\",\"celf2_7\",52.943018527631736,0.20052890996022063],[\"dnd1\",\"elavl3\",60.56357957100783,0.12192456234649177],[\"dnd1\",\"imp3\",79.162075499623,0.1948847616056823],[\"dnd1\",\"eif3ba\",78.59752419524233,0.633729468995111],[\"dnd1\",\"ccn2b\",60.078200921715684,0.48775252828164917],[\"dnd1\",\"nanos2\",66.29049327091133,0.3850990765497126],[\"dnd1\",\"ddx4_5\",72.98558683033997,0.5315250420140428],[\"dnd1\",\"buc\",50.246120719526935,0.6897629981071273],[\"dnd1\",\"rad21a\",48.870059031015515,0.07800552761159738],[\"dnd1\",\"eif3ea_2\",68.80612685883497,0.12517494999795395],[\"dnd1\",\"nanos1\",61.87265714468741,0.5801352046331106],[\"dnd1\",\"eif3eb\",68.61718656677071,0.1267873997942054],[\"dnd1\",\"mydgf\",67.24672823168801,0.24212065156295653],[\"dnd1\",\"cdx4\",55.206164218040286,0.4244103248692705],[\"dnd1\",\"mixl1\",51.39564230010039,0.1319649366918757],[\"dnd1\",\"eef2b_1\",76.8275594888838,0.09639433857022778],[\"dnd1\",\"gsc\",58.28441384120923,0.09254817592506968],[\"dnd1\",\"twist2\",59.64433960174545,0.4866551781828563],[\"dnd1\",\"samd4a_1\",67.85646107553647,0.38742006436549575],[\"dnd1\",\"eif4ea_1\",77.587474998209,0.694163707146826],[\"dnd1\",\"gata3\",45.06101762087591,0.08846901938150546],[\"dnd1\",\"gsc_2\",58.41913087901309,0.08744770052305188],[\"dnd1\",\"eif4a1a\",71.87541283274635,0.388357030428803],[\"dnd1\",\"eif4g1a_1\",52.470968775223426,0.6652076925069775],[\"dnd1\",\"eif4a1b_2\",71.0020390598684,0.48015327153743315],[\"dnd1\",\"nop56_1\",76.13295258004887,0.17536810758069904],[\"dnd1\",\"yap1\",45.1820350229461,0.2874505403250712],[\"dnd1\",\"eef2b\",75.72559818054151,0.14789472754121238],[\"dnd1\",\"eif3k\",82.0380274534417,0.6246734302211984],[\"dnd1\",\"nanos3\",68.28978023698014,0.6436026801060953],[\"dnd1\",\"eif4ea\",78.51006212472127,0.7178807907231256],[\"dnd1\",\"larp1\",50.89304366863817,0.5474280414710221],[\"dnd1\",\"prmt5_1\",82.43796892697208,0.44337990359307444],[\"dnd1\",\"panx1a\",75.86861320533262,0.2759204166384173],[\"dnd1\",\"eif1b\",76.28070862875171,0.44093736599811467],[\"dnd1\",\"eif4a1b\",68.34159450192169,0.2636954987658719],[\"dnd1\",\"eif4a3\",72.14461345809057,0.3052158829291588],[\"dnd1\",\"dazl_2\",73.09643531802419,0.6007383993429134],[\"dnd1\",\"prmt5\",83.98258092460512,0.4692563040054506],[\"dnd1\",\"eif3f\",75.6738711000113,0.5870838522178282],[\"dnd1\",\"eif3eb_5\",69.18762334154576,0.19113415792120883],[\"dnd1\",\"kpna4_1\",75.05896114351357,0.7133879083428626],[\"dnd1\",\"ranbp9\",73.89131760113781,0.706362677263202],[\"dnd1\",\"piwil1_2\",82.52940914669352,0.44251007103672496],[\"dnd1\",\"smad2\",65.5829139459815,0.23846076838010435],[\"dnd1\",\"tdrd7a\",71.20456103774907,0.7286162531889024],[\"dnd1\",\"eif2s3_1\",70.48262959164246,0.18939466637342992]],\"hovertemplate\":\"pTM=%{x}\\u003cbr\\u003eipTM=%{y}\\u003cbr\\u003eChainA=%{customdata[0]}\\u003cbr\\u003eChainB=%{customdata[1]}\\u003cbr\\u003epLDDT=%{customdata[2]}\\u003cbr\\u003epDockQ=%{customdata[3]}\\u003cextra\\u003e\\u003c\\u002fextra\\u003e\",\"legendgroup\":\"\",\"marker\":{\"color\":\"#1F77B4\",\"opacity\":0.75,\"symbol\":\"circle\"},\"mode\":\"markers\",\"name\":\"\",\"orientation\":\"v\",\"showlegend\":false,\"x\":[0.5253994290307149,0.43139998944791835,0.5709979533806792,0.5310889550254081,0.32178791705163,0.4959515727844549,0.4776094461694632,0.605258963802426,0.43108283155099336,0.567890821495727,0.3946235624124275,0.455750576961949,0.49312061311018845,0.34265293942805286,0.5136748030958638,0.5225530163951783,0.41902386714379375,0.3987328948833785,0.5462185218757383,0.3202798144268598,0.3730959793431732,0.42963904379974704,0.5499357280949935,0.39308055883779386,0.5435464939864371,0.5248214181370168,0.45253222530365433,0.30273561770307555,0.48016658622989306,0.5370541484432318,0.49356681231737376,0.46169279739105606,0.39242954252917694,0.37565910245280076,0.5993371831277826,0.4145994112976357,0.42791271856678575,0.3955996264417585,0.5636205107550118,0.3583092190660412,0.43651579761530446,0.49237331467439327,0.3213783911821982,0.4889396544246576,0.5177757842519068,0.33548413623704965,0.5712377734384433,0.6077422194204669,0.6093523617008033,0.5878049691646418,0.32447241173039154,0.6242332654526425,0.5106198723199814,0.5742285275395205,0.37320000254702146,0.5154496451076798,0.4744484091336281,0.6521797252902934,0.44186761430640126,0.48515162379061505,0.5505125968230282,0.40369108277489923,0.6990546353217801,0.48579149494580903,0.5716161280332035,0.5294341479166702],\"xaxis\":\"x\",\"y\":[0.345747709274292,0.20895758271217346,0.6826260685920715,0.4045695662498474,0.16357240080833435,0.18348932266235352,0.2695132791996002,0.6744331121444702,0.4804574251174927,0.4048415422439575,0.2248097062110901,0.42698609828948975,0.2815696895122528,0.20152240991592407,0.4069238305091858,0.3950519561767578,0.34171241521835327,0.374899685382843,0.32545846700668335,0.16227686405181885,0.20735642313957214,0.32799625396728516,0.3202991187572479,0.30104756355285645,0.5944746732711792,0.4286726415157318,0.3341481387615204,0.18235954642295837,0.22513961791992188,0.5342521071434021,0.18188312649726868,0.32655200362205505,0.240040123462677,0.23232123255729675,0.203090637922287,0.3417764902114868,0.34643661975860596,0.31506046652793884,0.7449727058410645,0.2263314127922058,0.3987579941749573,0.20955851674079895,0.4360848367214203,0.21365267038345337,0.4201928675174713,0.2471710443496704,0.17346307635307312,0.7233511209487915,0.577202558517456,0.6947801113128662,0.2918388545513153,0.31258976459503174,0.2977987229824066,0.5457255840301514,0.2245742529630661,0.17789442837238312,0.37331634759902954,0.31635749340057373,0.4547251760959625,0.27708899974823,0.5072426795959473,0.2591990828514099,0.36689460277557373,0.5831824541091919,0.36172693967819214,0.16908587515354156],\"yaxis\":\"y\",\"type\":\"scatter\"}],                        {\"template\":{\"data\":{\"barpolar\":[{\"marker\":{\"line\":{\"color\":\"white\",\"width\":0.5},\"pattern\":{\"fillmode\":\"overlay\",\"size\":10,\"solidity\":0.2}},\"type\":\"barpolar\"}],\"bar\":[{\"error_x\":{\"color\":\"rgb(36,36,36)\"},\"error_y\":{\"color\":\"rgb(36,36,36)\"},\"marker\":{\"line\":{\"color\":\"white\",\"width\":0.5},\"pattern\":{\"fillmode\":\"overlay\",\"size\":10,\"solidity\":0.2}},\"type\":\"bar\"}],\"carpet\":[{\"aaxis\":{\"endlinecolor\":\"rgb(36,36,36)\",\"gridcolor\":\"white\",\"linecolor\":\"white\",\"minorgridcolor\":\"white\",\"startlinecolor\":\"rgb(36,36,36)\"},\"baxis\":{\"endlinecolor\":\"rgb(36,36,36)\",\"gridcolor\":\"white\",\"linecolor\":\"white\",\"minorgridcolor\":\"white\",\"startlinecolor\":\"rgb(36,36,36)\"},\"type\":\"carpet\"}],\"choropleth\":[{\"colorbar\":{\"outlinewidth\":1,\"tickcolor\":\"rgb(36,36,36)\",\"ticks\":\"outside\"},\"type\":\"choropleth\"}],\"contourcarpet\":[{\"colorbar\":{\"outlinewidth\":1,\"tickcolor\":\"rgb(36,36,36)\",\"ticks\":\"outside\"},\"type\":\"contourcarpet\"}],\"contour\":[{\"colorbar\":{\"outlinewidth\":1,\"tickcolor\":\"rgb(36,36,36)\",\"ticks\":\"outside\"},\"colorscale\":[[0.0,\"#440154\"],[0.1111111111111111,\"#482878\"],[0.2222222222222222,\"#3e4989\"],[0.3333333333333333,\"#31688e\"],[0.4444444444444444,\"#26828e\"],[0.5555555555555556,\"#1f9e89\"],[0.6666666666666666,\"#35b779\"],[0.7777777777777778,\"#6ece58\"],[0.8888888888888888,\"#b5de2b\"],[1.0,\"#fde725\"]],\"type\":\"contour\"}],\"heatmapgl\":[{\"colorbar\":{\"outlinewidth\":1,\"tickcolor\":\"rgb(36,36,36)\",\"ticks\":\"outside\"},\"colorscale\":[[0.0,\"#440154\"],[0.1111111111111111,\"#482878\"],[0.2222222222222222,\"#3e4989\"],[0.3333333333333333,\"#31688e\"],[0.4444444444444444,\"#26828e\"],[0.5555555555555556,\"#1f9e89\"],[0.6666666666666666,\"#35b779\"],[0.7777777777777778,\"#6ece58\"],[0.8888888888888888,\"#b5de2b\"],[1.0,\"#fde725\"]],\"type\":\"heatmapgl\"}],\"heatmap\":[{\"colorbar\":{\"outlinewidth\":1,\"tickcolor\":\"rgb(36,36,36)\",\"ticks\":\"outside\"},\"colorscale\":[[0.0,\"#440154\"],[0.1111111111111111,\"#482878\"],[0.2222222222222222,\"#3e4989\"],[0.3333333333333333,\"#31688e\"],[0.4444444444444444,\"#26828e\"],[0.5555555555555556,\"#1f9e89\"],[0.6666666666666666,\"#35b779\"],[0.7777777777777778,\"#6ece58\"],[0.8888888888888888,\"#b5de2b\"],[1.0,\"#fde725\"]],\"type\":\"heatmap\"}],\"histogram2dcontour\":[{\"colorbar\":{\"outlinewidth\":1,\"tickcolor\":\"rgb(36,36,36)\",\"ticks\":\"outside\"},\"colorscale\":[[0.0,\"#440154\"],[0.1111111111111111,\"#482878\"],[0.2222222222222222,\"#3e4989\"],[0.3333333333333333,\"#31688e\"],[0.4444444444444444,\"#26828e\"],[0.5555555555555556,\"#1f9e89\"],[0.6666666666666666,\"#35b779\"],[0.7777777777777778,\"#6ece58\"],[0.8888888888888888,\"#b5de2b\"],[1.0,\"#fde725\"]],\"type\":\"histogram2dcontour\"}],\"histogram2d\":[{\"colorbar\":{\"outlinewidth\":1,\"tickcolor\":\"rgb(36,36,36)\",\"ticks\":\"outside\"},\"colorscale\":[[0.0,\"#440154\"],[0.1111111111111111,\"#482878\"],[0.2222222222222222,\"#3e4989\"],[0.3333333333333333,\"#31688e\"],[0.4444444444444444,\"#26828e\"],[0.5555555555555556,\"#1f9e89\"],[0.6666666666666666,\"#35b779\"],[0.7777777777777778,\"#6ece58\"],[0.8888888888888888,\"#b5de2b\"],[1.0,\"#fde725\"]],\"type\":\"histogram2d\"}],\"histogram\":[{\"marker\":{\"line\":{\"color\":\"white\",\"width\":0.6}},\"type\":\"histogram\"}],\"mesh3d\":[{\"colorbar\":{\"outlinewidth\":1,\"tickcolor\":\"rgb(36,36,36)\",\"ticks\":\"outside\"},\"type\":\"mesh3d\"}],\"parcoords\":[{\"line\":{\"colorbar\":{\"outlinewidth\":1,\"tickcolor\":\"rgb(36,36,36)\",\"ticks\":\"outside\"}},\"type\":\"parcoords\"}],\"pie\":[{\"automargin\":true,\"type\":\"pie\"}],\"scatter3d\":[{\"line\":{\"colorbar\":{\"outlinewidth\":1,\"tickcolor\":\"rgb(36,36,36)\",\"ticks\":\"outside\"}},\"marker\":{\"colorbar\":{\"outlinewidth\":1,\"tickcolor\":\"rgb(36,36,36)\",\"ticks\":\"outside\"}},\"type\":\"scatter3d\"}],\"scattercarpet\":[{\"marker\":{\"colorbar\":{\"outlinewidth\":1,\"tickcolor\":\"rgb(36,36,36)\",\"ticks\":\"outside\"}},\"type\":\"scattercarpet\"}],\"scattergeo\":[{\"marker\":{\"colorbar\":{\"outlinewidth\":1,\"tickcolor\":\"rgb(36,36,36)\",\"ticks\":\"outside\"}},\"type\":\"scattergeo\"}],\"scattergl\":[{\"marker\":{\"colorbar\":{\"outlinewidth\":1,\"tickcolor\":\"rgb(36,36,36)\",\"ticks\":\"outside\"}},\"type\":\"scattergl\"}],\"scattermapbox\":[{\"marker\":{\"colorbar\":{\"outlinewidth\":1,\"tickcolor\":\"rgb(36,36,36)\",\"ticks\":\"outside\"}},\"type\":\"scattermapbox\"}],\"scatterpolargl\":[{\"marker\":{\"colorbar\":{\"outlinewidth\":1,\"tickcolor\":\"rgb(36,36,36)\",\"ticks\":\"outside\"}},\"type\":\"scatterpolargl\"}],\"scatterpolar\":[{\"marker\":{\"colorbar\":{\"outlinewidth\":1,\"tickcolor\":\"rgb(36,36,36)\",\"ticks\":\"outside\"}},\"type\":\"scatterpolar\"}],\"scatter\":[{\"fillpattern\":{\"fillmode\":\"overlay\",\"size\":10,\"solidity\":0.2},\"type\":\"scatter\"}],\"scatterternary\":[{\"marker\":{\"colorbar\":{\"outlinewidth\":1,\"tickcolor\":\"rgb(36,36,36)\",\"ticks\":\"outside\"}},\"type\":\"scatterternary\"}],\"surface\":[{\"colorbar\":{\"outlinewidth\":1,\"tickcolor\":\"rgb(36,36,36)\",\"ticks\":\"outside\"},\"colorscale\":[[0.0,\"#440154\"],[0.1111111111111111,\"#482878\"],[0.2222222222222222,\"#3e4989\"],[0.3333333333333333,\"#31688e\"],[0.4444444444444444,\"#26828e\"],[0.5555555555555556,\"#1f9e89\"],[0.6666666666666666,\"#35b779\"],[0.7777777777777778,\"#6ece58\"],[0.8888888888888888,\"#b5de2b\"],[1.0,\"#fde725\"]],\"type\":\"surface\"}],\"table\":[{\"cells\":{\"fill\":{\"color\":\"rgb(237,237,237)\"},\"line\":{\"color\":\"white\"}},\"header\":{\"fill\":{\"color\":\"rgb(217,217,217)\"},\"line\":{\"color\":\"white\"}},\"type\":\"table\"}]},\"layout\":{\"annotationdefaults\":{\"arrowhead\":0,\"arrowwidth\":1},\"autotypenumbers\":\"strict\",\"coloraxis\":{\"colorbar\":{\"outlinewidth\":1,\"tickcolor\":\"rgb(36,36,36)\",\"ticks\":\"outside\"}},\"colorscale\":{\"diverging\":[[0.0,\"rgb(103,0,31)\"],[0.1,\"rgb(178,24,43)\"],[0.2,\"rgb(214,96,77)\"],[0.3,\"rgb(244,165,130)\"],[0.4,\"rgb(253,219,199)\"],[0.5,\"rgb(247,247,247)\"],[0.6,\"rgb(209,229,240)\"],[0.7,\"rgb(146,197,222)\"],[0.8,\"rgb(67,147,195)\"],[0.9,\"rgb(33,102,172)\"],[1.0,\"rgb(5,48,97)\"]],\"sequential\":[[0.0,\"#440154\"],[0.1111111111111111,\"#482878\"],[0.2222222222222222,\"#3e4989\"],[0.3333333333333333,\"#31688e\"],[0.4444444444444444,\"#26828e\"],[0.5555555555555556,\"#1f9e89\"],[0.6666666666666666,\"#35b779\"],[0.7777777777777778,\"#6ece58\"],[0.8888888888888888,\"#b5de2b\"],[1.0,\"#fde725\"]],\"sequentialminus\":[[0.0,\"#440154\"],[0.1111111111111111,\"#482878\"],[0.2222222222222222,\"#3e4989\"],[0.3333333333333333,\"#31688e\"],[0.4444444444444444,\"#26828e\"],[0.5555555555555556,\"#1f9e89\"],[0.6666666666666666,\"#35b779\"],[0.7777777777777778,\"#6ece58\"],[0.8888888888888888,\"#b5de2b\"],[1.0,\"#fde725\"]]},\"colorway\":[\"#1F77B4\",\"#FF7F0E\",\"#2CA02C\",\"#D62728\",\"#9467BD\",\"#8C564B\",\"#E377C2\",\"#7F7F7F\",\"#BCBD22\",\"#17BECF\"],\"font\":{\"color\":\"rgb(36,36,36)\"},\"geo\":{\"bgcolor\":\"white\",\"lakecolor\":\"white\",\"landcolor\":\"white\",\"showlakes\":true,\"showland\":true,\"subunitcolor\":\"white\"},\"hoverlabel\":{\"align\":\"left\"},\"hovermode\":\"closest\",\"mapbox\":{\"style\":\"light\"},\"paper_bgcolor\":\"white\",\"plot_bgcolor\":\"white\",\"polar\":{\"angularaxis\":{\"gridcolor\":\"rgb(232,232,232)\",\"linecolor\":\"rgb(36,36,36)\",\"showgrid\":false,\"showline\":true,\"ticks\":\"outside\"},\"bgcolor\":\"white\",\"radialaxis\":{\"gridcolor\":\"rgb(232,232,232)\",\"linecolor\":\"rgb(36,36,36)\",\"showgrid\":false,\"showline\":true,\"ticks\":\"outside\"}},\"scene\":{\"xaxis\":{\"backgroundcolor\":\"white\",\"gridcolor\":\"rgb(232,232,232)\",\"gridwidth\":2,\"linecolor\":\"rgb(36,36,36)\",\"showbackground\":true,\"showgrid\":false,\"showline\":true,\"ticks\":\"outside\",\"zeroline\":false,\"zerolinecolor\":\"rgb(36,36,36)\"},\"yaxis\":{\"backgroundcolor\":\"white\",\"gridcolor\":\"rgb(232,232,232)\",\"gridwidth\":2,\"linecolor\":\"rgb(36,36,36)\",\"showbackground\":true,\"showgrid\":false,\"showline\":true,\"ticks\":\"outside\",\"zeroline\":false,\"zerolinecolor\":\"rgb(36,36,36)\"},\"zaxis\":{\"backgroundcolor\":\"white\",\"gridcolor\":\"rgb(232,232,232)\",\"gridwidth\":2,\"linecolor\":\"rgb(36,36,36)\",\"showbackground\":true,\"showgrid\":false,\"showline\":true,\"ticks\":\"outside\",\"zeroline\":false,\"zerolinecolor\":\"rgb(36,36,36)\"}},\"shapedefaults\":{\"fillcolor\":\"black\",\"line\":{\"width\":0},\"opacity\":0.3},\"ternary\":{\"aaxis\":{\"gridcolor\":\"rgb(232,232,232)\",\"linecolor\":\"rgb(36,36,36)\",\"showgrid\":false,\"showline\":true,\"ticks\":\"outside\"},\"baxis\":{\"gridcolor\":\"rgb(232,232,232)\",\"linecolor\":\"rgb(36,36,36)\",\"showgrid\":false,\"showline\":true,\"ticks\":\"outside\"},\"bgcolor\":\"white\",\"caxis\":{\"gridcolor\":\"rgb(232,232,232)\",\"linecolor\":\"rgb(36,36,36)\",\"showgrid\":false,\"showline\":true,\"ticks\":\"outside\"}},\"title\":{\"x\":0.05},\"xaxis\":{\"automargin\":true,\"gridcolor\":\"rgb(232,232,232)\",\"linecolor\":\"rgb(36,36,36)\",\"showgrid\":false,\"showline\":true,\"ticks\":\"outside\",\"title\":{\"standoff\":15},\"zeroline\":false,\"zerolinecolor\":\"rgb(36,36,36)\"},\"yaxis\":{\"automargin\":true,\"gridcolor\":\"rgb(232,232,232)\",\"linecolor\":\"rgb(36,36,36)\",\"showgrid\":false,\"showline\":true,\"ticks\":\"outside\",\"title\":{\"standoff\":15},\"zeroline\":false,\"zerolinecolor\":\"rgb(36,36,36)\"}}},\"xaxis\":{\"anchor\":\"y\",\"domain\":[0.0,1.0],\"title\":{\"text\":\"pTM\"},\"range\":[0,1]},\"yaxis\":{\"anchor\":\"x\",\"domain\":[0.0,1.0],\"title\":{\"text\":\"ipTM\"},\"range\":[0,1]},\"legend\":{\"tracegroupgap\":0},\"margin\":{\"t\":60},\"autosize\":false,\"width\":800,\"height\":800},                        {\"responsive\": true}                    ).then(function(){\n",
       "                            \n",
       "var gd = document.getElementById('b00ee3d2-93cb-49e9-81a0-05d2bb5b00da');\n",
       "var x = new MutationObserver(function (mutations, observer) {{\n",
       "        var display = window.getComputedStyle(gd).display;\n",
       "        if (!display || display === 'none') {{\n",
       "            console.log([gd, 'removed!']);\n",
       "            Plotly.purge(gd);\n",
       "            observer.disconnect();\n",
       "        }}\n",
       "}});\n",
       "\n",
       "// Listen for the removal of the full notebook cells\n",
       "var notebookContainer = gd.closest('#notebook-container');\n",
       "if (notebookContainer) {{\n",
       "    x.observe(notebookContainer, {childList: true});\n",
       "}}\n",
       "\n",
       "// Listen for the clearing of the current output cell\n",
       "var outputEl = gd.closest('.output');\n",
       "if (outputEl) {{\n",
       "    x.observe(outputEl, {childList: true});\n",
       "}}\n",
       "\n",
       "                        })                };                });            </script>        </div>"
      ]
     },
     "metadata": {},
     "output_type": "display_data"
    }
   ],
   "execution_count": 28
  },
  {
   "metadata": {
    "ExecuteTime": {
     "end_time": "2025-03-20T11:22:03.278396Z",
     "start_time": "2025-03-20T11:22:03.269504Z"
    }
   },
   "cell_type": "code",
   "source": "df_screen.to_csv('/Volumes/terry/PPIDB/for_others/LS/data.csv')",
   "id": "5cdfe4978e8514af",
   "outputs": [],
   "execution_count": 20
  },
  {
   "metadata": {},
   "cell_type": "code",
   "outputs": [],
   "execution_count": null,
   "source": "",
   "id": "f25b640d45afd69e"
  }
 ],
 "metadata": {
  "kernelspec": {
   "display_name": "Python 3",
   "language": "python",
   "name": "python3"
  },
  "language_info": {
   "codemirror_mode": {
    "name": "ipython",
    "version": 2
   },
   "file_extension": ".py",
   "mimetype": "text/x-python",
   "name": "python",
   "nbconvert_exporter": "python",
   "pygments_lexer": "ipython2",
   "version": "2.7.6"
  }
 },
 "nbformat": 4,
 "nbformat_minor": 5
}
