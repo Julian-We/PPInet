{
 "cells": [
  {
   "cell_type": "code",
   "id": "initial_id",
   "metadata": {
    "collapsed": true,
    "ExecuteTime": {
     "end_time": "2024-04-18T11:27:10.613879Z",
     "start_time": "2024-04-18T11:27:10.148273Z"
    }
   },
   "source": [
    "import matplotlib.pyplot as plt\n",
    "import aflib.decipher\n",
    "import seaborn as sns\n",
    "import aflib.data\n",
    "import os"
   ],
   "outputs": [],
   "execution_count": 1
  },
  {
   "metadata": {
    "ExecuteTime": {
     "end_time": "2024-04-18T11:44:15.552523Z",
     "start_time": "2024-04-18T11:44:15.549866Z"
    }
   },
   "cell_type": "code",
   "source": "list_all_network = ['dnd1', 'nanos3', 'ddx4', 'ran', 'gra', 'ran', 'tdrd7a', 'kpna4', 'seh1l', 'ranbp1', 'ranbp9', 'sec13']",
   "id": "b28543c9131978cb",
   "outputs": [],
   "execution_count": 12
  },
  {
   "metadata": {},
   "cell_type": "code",
   "outputs": [],
   "execution_count": null,
   "source": "",
   "id": "cad6a9863e778413"
  },
  {
   "metadata": {
    "ExecuteTime": {
     "end_time": "2024-04-18T11:29:07.729148Z",
     "start_time": "2024-04-18T11:27:10.614806Z"
    }
   },
   "cell_type": "code",
   "source": [
    "gran_network_path = '/Volumes/dave/JW/PPIDB/granule_network/xprt'\n",
    "gran_network = aflib.decipher.Interactions(gran_network_path)"
   ],
   "id": "5f9874be2bc56667",
   "outputs": [
    {
     "name": "stderr",
     "output_type": "stream",
     "text": [
      "100%|██████████| 55/55 [01:57<00:00,  2.13s/it]\n"
     ]
    }
   ],
   "execution_count": 2
  },
  {
   "metadata": {
    "ExecuteTime": {
     "end_time": "2024-04-18T11:35:38.366020Z",
     "start_time": "2024-04-18T11:35:38.066134Z"
    }
   },
   "cell_type": "code",
   "source": "gran_network.plot_relationship_circle('/Users/julian/Library/Mobile Documents/com~apple~CloudDocs/Documents/General Science/Programming/py/general_analysis/20240111_PPI-network/out_data/granule_network')",
   "id": "b60e918f555c0219",
   "outputs": [],
   "execution_count": 10
  },
  {
   "metadata": {},
   "cell_type": "code",
   "outputs": [],
   "execution_count": null,
   "source": "",
   "id": "e386c5b7e9216d6a"
  }
 ],
 "metadata": {
  "kernelspec": {
   "display_name": "Python 3",
   "language": "python",
   "name": "python3"
  },
  "language_info": {
   "codemirror_mode": {
    "name": "ipython",
    "version": 2
   },
   "file_extension": ".py",
   "mimetype": "text/x-python",
   "name": "python",
   "nbconvert_exporter": "python",
   "pygments_lexer": "ipython2",
   "version": "2.7.6"
  }
 },
 "nbformat": 4,
 "nbformat_minor": 5
}
