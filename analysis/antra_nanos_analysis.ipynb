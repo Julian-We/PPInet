{
 "cells": [
  {
   "cell_type": "code",
   "id": "initial_id",
   "metadata": {
    "collapsed": true,
    "ExecuteTime": {
     "end_time": "2024-06-07T14:01:10.969022Z",
     "start_time": "2024-06-07T14:01:09.153916Z"
    }
   },
   "source": [
    "import matplotlib.pyplot as plt\n",
    "from aflib import decipher\n",
    "import aflib.palmatylation\n",
    "import seaborn as sns\n",
    "import aflib.data\n",
    "import os"
   ],
   "outputs": [],
   "execution_count": 1
  },
  {
   "metadata": {
    "ExecuteTime": {
     "end_time": "2024-06-07T14:01:10.971690Z",
     "start_time": "2024-06-07T14:01:10.970020Z"
    }
   },
   "cell_type": "code",
   "source": [
    "make = \"\"\"eif3d\n",
    "eif3k\n",
    "eif3ba\n",
    "eif3f\n",
    "pabpc1a\n",
    "eif4ea\n",
    "nanos3\"\"\".split(\"\\n\")"
   ],
   "id": "b0c88f868dcb9263",
   "outputs": [],
   "execution_count": 2
  },
  {
   "metadata": {
    "ExecuteTime": {
     "end_time": "2024-06-07T14:01:10.973802Z",
     "start_time": "2024-06-07T14:01:10.972333Z"
    }
   },
   "cell_type": "code",
   "source": "# aflib.palmatylation.some_vs_some('/Volumes/terry/PPIDB/submissions/job_inputs/nanos_new_submission', make, ['nanos3'], True)",
   "id": "8b298b0ff47fd548",
   "outputs": [],
   "execution_count": 3
  },
  {
   "metadata": {
    "ExecuteTime": {
     "end_time": "2024-06-07T14:01:10.976264Z",
     "start_time": "2024-06-07T14:01:10.974890Z"
    }
   },
   "cell_type": "code",
   "source": "# aflib.palmatylation.some_vs_some('/Volumes/terry/PPIDB/submissions/job_inputs/dnd_new_submission', make, ['dnd1'], True)",
   "id": "4bc229e5e640f34d",
   "outputs": [],
   "execution_count": 4
  },
  {
   "metadata": {
    "ExecuteTime": {
     "end_time": "2024-06-07T14:01:36.511721Z",
     "start_time": "2024-06-07T14:01:10.976777Z"
    }
   },
   "cell_type": "code",
   "source": [
    "nanos3_interactome = decipher.Interactions('nanos3', mode='screen', db_path='/Volumes/terry/PPIDB/libs/full_lib')\n",
    "nanos3_interactome.interactive_pTM_plot('/Users/julian/Library/Mobile Documents/com~apple~CloudDocs/Documents/PhD/_Raz Lab/for_other_ppl/for AG/20240607_nanos3_interactome.html')"
   ],
   "id": "824f636239743923",
   "outputs": [],
   "execution_count": null
  },
  {
   "metadata": {
    "ExecuteTime": {
     "end_time": "2024-06-07T14:03:30.715123Z",
     "start_time": "2024-06-07T14:03:30.706147Z"
    }
   },
   "cell_type": "code",
   "source": "nanos3_interactome.unique_df.to_csv('/Users/julian/Library/Mobile Documents/com~apple~CloudDocs/Documents/PhD/_Raz Lab/for_other_ppl/for AG/20240607_nanos3_interactome.csv')",
   "id": "6e05c3454b00da1e",
   "outputs": [],
   "execution_count": 7
  },
  {
   "metadata": {
    "ExecuteTime": {
     "end_time": "2024-06-07T14:01:36.857663Z",
     "start_time": "2024-06-07T14:01:36.512773Z"
    }
   },
   "cell_type": "code",
   "source": [
    "dnd_interactome = decipher.Interactions('dnd1', mode='screen', db_path='/Volumes/terry/PPIDB/libs/full_lib')\n",
    "dnd_interactome.interactive_pTM_plot('/Users/julian/Library/Mobile Documents/com~apple~CloudDocs/Documents/PhD/_Raz Lab/for_other_ppl/for AG/20240607_dnd1_interactome.html')"
   ],
   "id": "6021b1aac60a65f",
   "outputs": [],
   "execution_count": null
  },
  {
   "metadata": {
    "ExecuteTime": {
     "end_time": "2024-06-07T14:03:33.308202Z",
     "start_time": "2024-06-07T14:03:33.299667Z"
    }
   },
   "cell_type": "code",
   "source": [
    "\n",
    "dnd_interactome.unique_df.to_csv('/Users/julian/Library/Mobile Documents/com~apple~CloudDocs/Documents/PhD/_Raz Lab/for_other_ppl/for AG/20240607_dnd1_interactome.csv')"
   ],
   "id": "663fb52b98aa5a69",
   "outputs": [],
   "execution_count": 8
  },
  {
   "metadata": {
    "ExecuteTime": {
     "end_time": "2024-06-07T14:01:36.859801Z",
     "start_time": "2024-06-07T14:01:36.858489Z"
    }
   },
   "cell_type": "code",
   "source": "",
   "id": "24c25c2f2730a76",
   "outputs": [],
   "execution_count": 6
  }
 ],
 "metadata": {
  "kernelspec": {
   "display_name": "Python 3",
   "language": "python",
   "name": "python3"
  },
  "language_info": {
   "codemirror_mode": {
    "name": "ipython",
    "version": 2
   },
   "file_extension": ".py",
   "mimetype": "text/x-python",
   "name": "python",
   "nbconvert_exporter": "python",
   "pygments_lexer": "ipython2",
   "version": "2.7.6"
  }
 },
 "nbformat": 4,
 "nbformat_minor": 5
}
