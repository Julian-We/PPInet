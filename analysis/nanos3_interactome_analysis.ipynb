{
 "cells": [
  {
   "cell_type": "code",
   "id": "initial_id",
   "metadata": {
    "collapsed": true
   },
   "source": [
    "import matplotlib.pyplot as plt\n",
    "import aflib.decipher\n",
    "import seaborn as sns\n",
    "import aflib.data\n",
    "import os"
   ],
   "outputs": [],
   "execution_count": null
  },
  {
   "metadata": {},
   "cell_type": "code",
   "source": [
    "nanos3_libpath = '/Volumes/dave/JW/PPIDB/full_lib/tdrd7a_db'\n",
    "\n",
    "nanos3_interactome = aflib.decipher.Interactions(nanos3_libpath)"
   ],
   "id": "36124925f7590a8",
   "outputs": [],
   "execution_count": null
  },
  {
   "metadata": {},
   "cell_type": "code",
   "source": [
    "sns.set_style(\"ticks\")\n",
    "fig, ax = plt.subplots()\n",
    "nanos3_interactome.pTM_plot(ax, experiment_name='Nanos vs. selected Interactors', \n",
    "                            color='black',\n",
    "                            # hue='gene group',\n",
    "                            alpha=0.8, \n",
    "                            label='Nanos vs. selected Interactors')\n",
    "sns.despine()\n",
    "fig.savefig(os.path.join('out_data', 'nanos', 'nanos3_interactome_pTM_plot.pdf'))"
   ],
   "id": "13e2faacfad45f2b",
   "outputs": [],
   "execution_count": null
  },
  {
   "metadata": {},
   "cell_type": "code",
   "source": "nanos3_interactome.interactive_pTM_plot(os.path.join('out_data', 'nanos', 'nanos3_interactome_pTM_plot.html') ,color_by_group=True, static_gene='Tdrd7a')",
   "id": "691dd2b1472d1430",
   "outputs": [],
   "execution_count": null
  }
 ],
 "metadata": {
  "kernelspec": {
   "display_name": "Python 3",
   "language": "python",
   "name": "python3"
  },
  "language_info": {
   "codemirror_mode": {
    "name": "ipython",
    "version": 2
   },
   "file_extension": ".py",
   "mimetype": "text/x-python",
   "name": "python",
   "nbconvert_exporter": "python",
   "pygments_lexer": "ipython2",
   "version": "2.7.6"
  }
 },
 "nbformat": 4,
 "nbformat_minor": 5
}
