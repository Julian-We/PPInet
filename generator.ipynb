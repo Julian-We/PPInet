{
 "cells": [
  {
   "cell_type": "code",
   "id": "initial_id",
   "metadata": {
    "collapsed": true,
    "ExecuteTime": {
     "end_time": "2024-04-18T06:55:53.397828Z",
     "start_time": "2024-04-18T06:55:51.009151Z"
    }
   },
   "source": [
    "from aflib.palmatylation import all_vs_all, some_vs_some, generate_pair, generate_multiple_pairs\n",
    "import numpy as np"
   ],
   "outputs": [],
   "execution_count": 2
  },
  {
   "cell_type": "code",
   "outputs": [],
   "source": [
    "out_path = '/Users/izbuser/Desktop/af2_control_net2'\n",
    "test_list = ['dnd1', 'nanos3', 'cxcr4b', 'cxcl12a', 'ddx4', 'actb1', 'pou5f3', 'h2bc1']\n",
    "all_vs_all(out_path, test_list, True)"
   ],
   "metadata": {
    "collapsed": false,
    "ExecuteTime": {
     "start_time": "2024-03-21T16:06:55.503059Z"
    }
   },
   "id": "1d286d41870fc4c1",
   "execution_count": null
  },
  {
   "cell_type": "code",
   "outputs": [],
   "source": [
    "some_vs_some('/Users/julian/Desktop/test', ['dnd1', 'nanos3'], ['nanos3', 'dnd1'], True)"
   ],
   "metadata": {
    "collapsed": false,
    "ExecuteTime": {
     "start_time": "2024-03-21T16:06:55.507481Z"
    }
   },
   "id": "55810008854f426b",
   "execution_count": null
  },
  {
   "cell_type": "code",
   "outputs": [],
   "source": [
    "zf_npc_components = ['aaas', 'gle1', 'ndc1', 'nup35', 'nup37', 'nup42', 'nup43', 'nup50', 'nup54', 'nup58', 'nup62l', 'nup85', 'nup88', 'nup93', 'nup98', 'nup107', 'nup133', 'nup153', 'nup160', 'nup188', 'nup205', 'nup210', 'nup214', 'nup358', 'pom121', 'rae1', 'sec13', 'seh1l', 'tpra', 'tprb']\n",
    "\n",
    "zf_germ_cell_components = ['dnd1', 'nanos3', 'piwil1', 'buc', 'gra', 'ddx4', 'tdrd7a', 'tdrd6', 'tia1', 'dazl', 'dazap1', 'dynll2a', 'hook2', 'ranbp9', ]\n",
    "\n",
    "some_vs_some('/Volumes/MartyMcDrve/experiments/tdrd7a_interactome_small', ['tdrd7a'], zf_npc_components + ['RAS', 'ranbp9', 'gra'], True, both_ways=True)"
   ],
   "metadata": {
    "collapsed": false,
    "ExecuteTime": {
     "end_time": "2024-03-21T16:06:55.514235Z",
     "start_time": "2024-03-21T16:06:55.513641Z"
    }
   },
   "id": "8c03af83fba4b951",
   "execution_count": null
  },
  {
   "cell_type": "code",
   "outputs": [
    {
     "ename": "NameError",
     "evalue": "name 'some_vs_some' is not defined",
     "output_type": "error",
     "traceback": [
      "\u001B[0;31m---------------------------------------------------------------------------\u001B[0m",
      "\u001B[0;31mNameError\u001B[0m                                 Traceback (most recent call last)",
      "\u001B[0;32m/var/folders/62/yv6r5_y115s_tyrp10l5d9z40000gp/T/ipykernel_1203/4073547106.py\u001B[0m in \u001B[0;36m<module>\u001B[0;34m\u001B[0m\n\u001B[0;32m----> 1\u001B[0;31m \u001B[0msome_vs_some\u001B[0m\u001B[0;34m(\u001B[0m\u001B[0;34m'/Users/julian/Desktop/lifeact_sPPIder'\u001B[0m\u001B[0;34m,\u001B[0m \u001B[0;34m[\u001B[0m\u001B[0;34m'tdrd7a'\u001B[0m\u001B[0;34m]\u001B[0m\u001B[0;34m,\u001B[0m \u001B[0;34m[\u001B[0m\u001B[0;34m'tdrd7a'\u001B[0m\u001B[0;34m,\u001B[0m \u001B[0;34m'ddx4'\u001B[0m\u001B[0;34m,\u001B[0m \u001B[0;34m'dnd1'\u001B[0m\u001B[0;34m]\u001B[0m\u001B[0;34m,\u001B[0m \u001B[0;32mTrue\u001B[0m\u001B[0;34m,\u001B[0m \u001B[0mboth_ways\u001B[0m\u001B[0;34m=\u001B[0m\u001B[0;32mFalse\u001B[0m\u001B[0;34m)\u001B[0m\u001B[0;34m\u001B[0m\u001B[0;34m\u001B[0m\u001B[0m\n\u001B[0m",
      "\u001B[0;31mNameError\u001B[0m: name 'some_vs_some' is not defined"
     ]
    }
   ],
   "source": [
    "some_vs_some('/Users/julian/Desktop/lifeact_sPPIder', ['tdrd7a'], ['tdrd7a', 'ddx4', 'dnd1'], True, both_ways=False)"
   ],
   "metadata": {
    "collapsed": false,
    "ExecuteTime": {
     "end_time": "2024-03-21T16:16:28.699667Z",
     "start_time": "2024-03-21T16:16:28.672246Z"
    }
   },
   "id": "2cb93b897d0be80c",
   "execution_count": 2
  },
  {
   "cell_type": "code",
   "outputs": [],
   "source": [
    "some_vs_some('/Users/julian/Desktop/lifeact_sPPIder', ['lifeact'], ['actb1'], False)"
   ],
   "metadata": {
    "collapsed": false,
    "ExecuteTime": {
     "start_time": "2024-03-21T16:06:55.517940Z"
    }
   },
   "id": "a4dd5e8a1ef2c198",
   "execution_count": null
  },
  {
   "cell_type": "code",
   "outputs": [],
   "source": [
    "some_vs_some('/Volumes/dave/JW/PPIDB/full_lib/new_submission/tdrd7a_interactome_small', ['tdrd7a'], ['dnd1', 'nanos3', 'piwil1', 'buc', 'gra', 'ddx4', 'tdrd6', 'tia1', 'dazl', 'dazap1', 'dynll2a', 'hook2', 'ranbp9', 'nup50', 'nup98', 'nup153', 'nup188', 'nup205', 'nup205', 'nup210', 'nup214', 'ranbp9', 'tpra', 'tprb'], True, both_ways=False)"
   ],
   "metadata": {
    "collapsed": false,
    "ExecuteTime": {
     "start_time": "2024-03-21T16:06:55.534724Z"
    }
   },
   "id": "8e2811a8c6debfd4",
   "execution_count": null
  },
  {
   "cell_type": "code",
   "outputs": [],
   "source": [
    "nos_candidates = ['eif4e1b',\n",
    "'eif2s3',\n",
    "'eef2b',\n",
    "'eif1',\n",
    "'eif1b',\n",
    "'eif2a',\n",
    "'eif2d',\n",
    "'eif4a1a',\n",
    "'eif4a1b',\n",
    "'eif4a2',\n",
    "'eif4a3',\n",
    "'eif4ba',\n",
    "'eif5',\n",
    "'etf1a',\n",
    "'mto1',\n",
    "'tma7',\n",
    "'tsfm',\n",
    "'eef2',\n",
    "'rtraf',\n",
    "'ctif',\n",
    "'mtrfr',\n",
    "'eif1ad',\n",
    "'eif4g1a',\n",
    "'eif3f',\n",
    "'eif2ak3',\n",
    "'eif3ha',\n",
    "'eef1a1l1',\n",
    "'rad21a',\n",
    "'ybx1',\n",
    "'rbm24a',\n",
    "'gspt1',\n",
    "'tpt1',\n",
    "'dazl',\n",
    "'pum3',\n",
    "'nanos3',\n",
    "'zar1l',\n",
    "'nanos2',\n",
    "'igf2bp3',\n",
    "'nanos1',\n",
    "'piwil1',\n",
    "'fxr1',\n",
    "'ybx1',\n",
    "'piwil2',\n",
    "'mettl3',\n",
    "'ythdf2',\n",
    "'pum2',\n",
    "'pum3',\n",
    "'zbtb16a',\n",
    "'ddx4',\n",
    "'dnd1',\n",
    "'prdm14',\n",
    "'eif4g1a',\n",
    "'eif3m',\n",
    "'cnot1',\n",
    "'celf5a']"
   ],
   "metadata": {
    "collapsed": false,
    "ExecuteTime": {
     "end_time": "2024-03-27T07:44:41.613645Z",
     "start_time": "2024-03-27T07:44:41.598260Z"
    }
   },
   "id": "5759cd0b419988a9",
   "execution_count": 3
  },
  {
   "cell_type": "code",
   "outputs": [
    {
     "name": "stdout",
     "output_type": "stream",
     "text": [
      "nanos3-eif4e1b needs: \t 04:36:26\n",
      "nanos3-eif2s3_1 needs: \t 07:59:52\n",
      "nanos3-eef2b needs: \t 13:22:58\n",
      "nanos3-eef2b_1 needs: \t 13:24:24\n",
      "nanos3-eif1 needs: \t 03:21:30\n",
      "nanos3-eif1b needs: \t 03:21:30\n",
      "nanos3-eif2a needs: \t 09:20:57\n",
      "nanos3-eif2d needs: \t 09:28:06\n",
      "nanos3-eif4a1a needs: \t 07:05:07\n",
      "nanos3-eif4a1b needs: \t 07:05:07\n",
      "nanos3-eif4a1b_2 needs: \t 07:09:24\n",
      "nanos3-eif4a2_1 needs: \t 07:08:41\n",
      "nanos3-eif4a3 needs: \t 07:05:07\n",
      "nanos3-eif4ba_3 needs: \t 09:46:43\n",
      "nanos3-eif4ba_4 needs: \t 09:43:08\n",
      "nanos3-eif5_3 needs: \t 07:21:34\n",
      "nanos3-etf1a needs: \t 07:16:34\n",
      "nanos3-mto1 needs: \t 10:34:08\n",
      "nanos3-tma7 needs: \t 02:46:27\n",
      "nanos3-tsfm needs: \t 05:46:02\n",
      "nanos3-tsfm_1 needs: \t 05:47:27\n",
      "nanos3-eef2a needs: \t 13:20:06\n",
      "nanos3-rtraf needs: \t 05:02:22\n",
      "nanos3-ctif needs: \t 10:43:27\n",
      "nanos3-mtrfr_1 needs: \t 03:54:56\n",
      "nanos3-eif1ad needs: \t 04:06:23\n",
      "nanos3-eif4g1a_1 needs: \t 24:50:26\n",
      "nanos3-eif3f needs: \t 05:31:00\n",
      "nanos3-eif2ak3 needs: \t 17:30:45\n",
      "nanos3-eif3ha needs: \t 06:08:56\n",
      "nanos3-eef1a1l1_1 needs: \t 07:52:42\n",
      "nanos3-rad21a needs: \t 10:22:41\n",
      "nanos3-ybx1 needs: \t 05:50:19\n",
      "nanos3-rbm24a needs: \t 04:47:53\n",
      "nanos3-gspt1 needs: \t 09:09:29\n",
      "nanos3-tpt1_2 needs: \t 04:05:40\n",
      "nanos3-dazl_2 needs: \t 04:47:10\n",
      "nanos3-pum3_2 needs: \t 09:56:02\n",
      "nanos3-nanos3 needs: \t 03:57:05\n",
      "nanos3-zar1l needs: \t 05:52:28\n",
      "nanos3-zar1l_1 needs: \t 05:52:28\n",
      "nanos3-nanos2 needs: \t 03:47:47\n",
      "nanos3-igf2bp3 needs: \t 09:22:22\n",
      "nanos3-nanos1 needs: \t 04:46:27\n",
      "nanos3-piwil1_2 needs: \t 13:22:58\n",
      "nanos3-fxr1_1 needs: \t 10:24:07\n",
      "nanos3-piwil2 needs: \t 17:22:09\n",
      "nanos3-mettl3 needs: \t 09:23:48\n",
      "nanos3-ythdf2 needs: \t 09:44:34\n",
      "nanos3-pum2_1 needs: \t 18:49:36\n",
      "nanos3-zbtb16a_2 needs: \t 10:42:44\n",
      "nanos3-ddx4_5 needs: \t 11:14:58\n",
      "nanos3-dnd1 needs: \t 07:08:41\n",
      "nanos3-prdm14 needs: \t 09:12:21\n",
      "nanos3-eif3m needs: \t 06:42:55\n",
      "nanos3-cnot1 needs: \t 41:20:37\n",
      "nanos3-cnot1_2 needs: \t 38:24:24\n",
      "nanos3-celf5a_1 needs: \t 08:39:57\n",
      "nanos3-celf5a_2 needs: \t 03:44:55\n",
      "\n",
      "\n",
      "\n",
      "The job will take approximately 557:29:21\n",
      "Folding 59 pairs\n"
     ]
    }
   ],
   "source": [
    "some_vs_some('/Users/izbuser/Desktop/nanosAG', ['nanos3'], nos_candidates, True, both_ways=False, buffer_temp=0.95, t_min=6500)"
   ],
   "metadata": {
    "collapsed": false,
    "ExecuteTime": {
     "end_time": "2024-03-27T07:44:47.997207Z",
     "start_time": "2024-03-27T07:44:41.827253Z"
    }
   },
   "id": "e298e5e3a5f38ad6",
   "execution_count": 4
  },
  {
   "cell_type": "code",
   "outputs": [
    {
     "name": "stdout",
     "output_type": "stream",
     "text": [
      "No result for ranbp2 was found, thus its not considered\n",
      "No result for ranbgap1b was found, thus its not considered\n",
      "tdrd7a-rcc1 needs: \t 11:41:55\n",
      "tdrd7a-rangap1b needs: \t 13:39:22\n",
      "tdrd7a-ranbp1 needs: \t 10:16:41\n",
      "tdrd7a-ranbp3a needs: \t 13:12:35\n",
      "tdrd7a-ranbp3b needs: \t 13:18:21\n",
      "tdrd7a-rangap1a needs: \t 13:36:54\n",
      "tdrd7a-kpna1 needs: \t 13:44:44\n",
      "tdrd7a-kpna3 needs: \t 13:16:18\n",
      "tdrd7a-kpna4_1 needs: \t 13:16:43\n",
      "tdrd7a-kpna5 needs: \t 13:24:08\n",
      "tdrd7a-kpna7 needs: \t 13:16:18\n",
      "tdrd7a-kpnb1 needs: \t 15:43:01\n",
      "tdrd7a-kpnb3 needs: \t 19:52:21\n",
      "tdrd7a-xpo4 needs: \t 20:15:52\n",
      "tdrd7a-xpo4_1 needs: \t 20:15:02\n",
      "tdrd7a-xpo6 needs: \t 19:54:00\n",
      "tdrd7a-xpo6_2 needs: \t 20:06:22\n",
      "tdrd7a-xpo1a_1 needs: \t 19:43:17\n",
      "tdrd7a-xpo5_1 needs: \t 15:55:23\n",
      "tdrd7a-xpo7_1 needs: \t 19:51:31\n",
      "tdrd7a-xpo7_3 needs: \t 19:51:31\n",
      "\n",
      "\n",
      "\n",
      "The job will take approximately 334:12:28\n",
      "Folding 21 pairs\n"
     ]
    }
   ],
   "source": [
    "some_vs_some('/Volumes/dave/JW/PPIDB/inputs/tdrd7_2nd_amendment', ['tdrd7a'], ['rcc1', 'ranbp2', 'rangap', 'ranbp1', 'ranbp3a', 'ranbp3b', 'ranbgap1b', 'rangap1a', 'ran', 'kpna1', 'kpna3', 'kpna4', 'kpna5', 'kpna7', 'kpnb1', 'kpnb3', 'xpo4', 'xpo6', 'xpo1a', 'xpo5', 'xpo7' ], True, both_ways=False)"
   ],
   "metadata": {
    "collapsed": false,
    "ExecuteTime": {
     "end_time": "2024-04-04T16:29:08.050746Z",
     "start_time": "2024-04-04T16:28:59.914075Z"
    }
   },
   "id": "68d457b1ef9489eb",
   "execution_count": 2
  },
  {
   "cell_type": "code",
   "source": [
    "ran_sequence = 'MAENEPQVQFKLVLVGDGGTGKTTFVKRHLTGEFEKKYVATLGVEVHPLVFHTNRGAIKYNVWDTAGQEKFGGLRDGYYIQAQCAIIMFDVTSRVTYKNVPNWHRDLVRVCENIPIVLCGNKVDIKDRKVKAKSIVFHRKKNLQYYDISAKSNYNFEKPFLWLARKLIGDPNLEFVEMPALAPPEIAMDPTLAAQYEHDLKVASETALPDEDDDL'"
   ],
   "metadata": {
    "collapsed": false,
    "ExecuteTime": {
     "end_time": "2024-04-19T05:57:44.350181Z",
     "start_time": "2024-04-19T05:57:44.347953Z"
    }
   },
   "id": "c90725023080d1f8",
   "outputs": [],
   "execution_count": 2
  },
  {
   "cell_type": "code",
   "source": [
    "vasa_len=len(\"\"\"MDDWEEDQSPVVSCSSGFGLGSNGSDGGFKSFYTGGAGNDKSNSEGTEGSSWKMTGDSFRGRGGRGGSRGGRGGFSGFKSEIDENGSDGGWNGGESRGKGRGGFRGGFRSGSRDENDENGNDDGWKGGESRGRGRGGFGGGFRGGFRDGGNEDTGRRGFGRENNENGNDEEGEGRGRGRGGFRGGFRDGGGDESGKRGFGRGGFRGRNEEVFSKVTTADKLDQEGSENAGPKVVYVPPPPPEEESSIFSHYATGINFDKYDDILVDVSGSNPPKAIMTFEEAGLCDSLSKNVSKSGYVKPTPVQKHGIPIISAGRDLMACAQTGSGKTAAFLLPILQRFMTDGVAASKFSEIQEPEAIIVAPTRELINQIYLEARKFAYGTCVRPVVVYGGINTGYTIREVLKGCNVLCATPGRLHDLIGRGKIGLSKVRYLVLDEADRMLDMGFEPEMRKLVASPGMPSKEERQTLMFSATYPEDIQRMAADFLKVDYIFLAVGVVGGACSDVEQTIVQVDQYSKRDQLLELLRATGNERTMVFVETKRSADFIATFLCQEKISTTSIHGDREQREREKALSDFRLGQCPVLVATSVAARGLDIEQVQHVVNFDMPSSIDEYVHRIGRTGRCGNTGRAVSFFNPESDTPLARSLVKVLSGAQQVVPKWLEEVAFSAHGTTGFNPRGKVFASTDSRKGGSFKSDEPPPSQTSAPSAAAAADDEEWE\"\"\")\n",
    "print(vasa_len)"
   ],
   "metadata": {
    "collapsed": false,
    "ExecuteTime": {
     "end_time": "2024-04-19T05:57:45.044322Z",
     "start_time": "2024-04-19T05:57:45.042019Z"
    }
   },
   "id": "ae3bc596ef7a6a71",
   "outputs": [
    {
     "name": "stdout",
     "output_type": "stream",
     "text": [
      "716\n"
     ]
    }
   ],
   "execution_count": 3
  },
  {
   "cell_type": "code",
   "source": [
    "vasa_scramble = 'MAAFLLPILQRFMTDGVAASKFSEIQEPEAIIVAPTRELINQIYLEARKFAYGTCVRPVVVYGGINTGYTIREVLKGCNVLCATPGRLHDLIGRGKIGLSKVRYLVLDEADRMLDMGFEPEMRKLVASPGMPSKEERQTLMFSATYPEDIQRMAADFLKVDYIFLAVGVVGGACSDVEQTIVQVDQYSKRDQLLELLRATGMDDWEEDQSPVVSCSSGFGLGSNGSDGGFKSFYTGGAGNDKSNSEGTEGSSWKMTGDSFRGRGGRGGSRGGRGGFSGFKSEIDENGSDGGWNGGESRGKGRGGFRGGFRSGSRDENDENGNDDGWKGGESRGRGRGGFGGGFRGGFRDGGNEDTGRRGFGRENNENGNDEEGEGRGRGRGGFRGGFRDGGGDESGKRGFGRGGFRGRNEEVFSKVTTADKLDQEGSENAGSADFIATFLCQEKISTTSIHGDREQREREKALSDFRLGQCPVLVATSVAARGLDIEQVQHVVNFDMPSSIDEYVHRIGRTGRCGNTGRAVSFFNPESDTPLARSLVKVLSGAQQVVPKWLEEVAFSAHGTTGFNPRGKVFASTDSRKGGSFKSDEPPPSQTSAPSAAAAADDEEWEPKVVYVPPPPPEEESSIFSHYATGINFDKYDDILVDVSGSNPPKAIMTFEEAGLCDSLSKNVSKSGYVKPTPVQKHGIPIISAGRDLMACAQTGSGKTNERTMVFVETK'\n",
    "print(len(vasa_scramble))"
   ],
   "metadata": {
    "collapsed": false,
    "ExecuteTime": {
     "end_time": "2024-04-19T05:57:45.635864Z",
     "start_time": "2024-04-19T05:57:45.633762Z"
    }
   },
   "id": "483c0159c69995d4",
   "outputs": [
    {
     "name": "stdout",
     "output_type": "stream",
     "text": [
      "716\n"
     ]
    }
   ],
   "execution_count": 4
  },
  {
   "cell_type": "code",
   "source": [
    "generate_pair('/Volumes/dave/JW/PPIDB/inputs/the_test', 'tdrd7a', 'ran', sequence2=ran_sequence)\n",
    "generate_pair('/Volumes/dave/JW/PPIDB/inputs/actin-lifeact', 'actb1', 'lifeact', sequence2='MGVADLIKKFESISKE')\n",
    "generate_pair('/Volumes/dave/JW/PPIDB/inputs/deadend-lifeact', 'dnd1', 'lifeact', sequence2='MGVADLIKKFESISKE')\n",
    "generate_pair('/Volumes/dave/JW/PPIDB/inputs/nanos3-lifeact', 'nanos3', 'lifeact', sequence2='MGVADLIKKFESISKE')\n",
    "generate_pair('/Volumes/dave/JW/PPIDB/inputs/ddx4_scramble-tdrd7a', 'tdrd7a', 'ddx4_scramble', sequence2=vasa_scramble)"
   ],
   "metadata": {
    "collapsed": false,
    "ExecuteTime": {
     "end_time": "2024-04-05T06:56:23.675990Z",
     "start_time": "2024-04-05T06:56:23.517836Z"
    }
   },
   "id": "d20c463f77e62155",
   "outputs": [
    {
     "ename": "NameError",
     "evalue": "name 'generate_pair' is not defined",
     "output_type": "error",
     "traceback": [
      "\u001B[0;31m---------------------------------------------------------------------------\u001B[0m",
      "\u001B[0;31mNameError\u001B[0m                                 Traceback (most recent call last)",
      "Cell \u001B[0;32mIn[6], line 1\u001B[0m\n\u001B[0;32m----> 1\u001B[0m \u001B[43mgenerate_pair\u001B[49m(\u001B[38;5;124m'\u001B[39m\u001B[38;5;124m/Volumes/dave/JW/PPIDB/inputs/the_test\u001B[39m\u001B[38;5;124m'\u001B[39m, \u001B[38;5;124m'\u001B[39m\u001B[38;5;124mtdrd7a\u001B[39m\u001B[38;5;124m'\u001B[39m, \u001B[38;5;124m'\u001B[39m\u001B[38;5;124mran\u001B[39m\u001B[38;5;124m'\u001B[39m, sequence2\u001B[38;5;241m=\u001B[39mran_sequence)\n\u001B[1;32m      2\u001B[0m generate_pair(\u001B[38;5;124m'\u001B[39m\u001B[38;5;124m/Volumes/dave/JW/PPIDB/inputs/actin-lifeact\u001B[39m\u001B[38;5;124m'\u001B[39m, \u001B[38;5;124m'\u001B[39m\u001B[38;5;124mactb1\u001B[39m\u001B[38;5;124m'\u001B[39m, \u001B[38;5;124m'\u001B[39m\u001B[38;5;124mlifeact\u001B[39m\u001B[38;5;124m'\u001B[39m, sequence2\u001B[38;5;241m=\u001B[39m\u001B[38;5;124m'\u001B[39m\u001B[38;5;124mMGVADLIKKFESISKE\u001B[39m\u001B[38;5;124m'\u001B[39m)\n\u001B[1;32m      3\u001B[0m generate_pair(\u001B[38;5;124m'\u001B[39m\u001B[38;5;124m/Volumes/dave/JW/PPIDB/inputs/deadend-lifeact\u001B[39m\u001B[38;5;124m'\u001B[39m, \u001B[38;5;124m'\u001B[39m\u001B[38;5;124mdnd1\u001B[39m\u001B[38;5;124m'\u001B[39m, \u001B[38;5;124m'\u001B[39m\u001B[38;5;124mlifeact\u001B[39m\u001B[38;5;124m'\u001B[39m, sequence2\u001B[38;5;241m=\u001B[39m\u001B[38;5;124m'\u001B[39m\u001B[38;5;124mMGVADLIKKFESISKE\u001B[39m\u001B[38;5;124m'\u001B[39m)\n",
      "\u001B[0;31mNameError\u001B[0m: name 'generate_pair' is not defined"
     ]
    }
   ],
   "execution_count": 6
  },
  {
   "metadata": {
    "ExecuteTime": {
     "end_time": "2024-04-05T06:57:35.764259Z",
     "start_time": "2024-04-05T06:57:35.711915Z"
    }
   },
   "cell_type": "code",
   "source": [
    "generate_pair('/Volumes/dave/JW/PPIDB/inputs/tdrd7_3rd_amendment', 'ranbp3a', 'tdrd7a')"
   ],
   "id": "1336a135f01c914d",
   "outputs": [
    {
     "name": "stdout",
     "output_type": "stream",
     "text": [
      "ranbp3a-tdrd7a needs: \t 13:12:35\n",
      "\n",
      "\n",
      "\n",
      "The job will take approximately 13:12:35\n",
      "Folding 1 pairs\n"
     ]
    }
   ],
   "execution_count": 8
  },
  {
   "metadata": {
    "ExecuteTime": {
     "end_time": "2024-04-18T06:56:45.123466Z",
     "start_time": "2024-04-18T06:56:45.082443Z"
    }
   },
   "cell_type": "code",
   "source": "generate_pair('/Users/julian/Desktop/AF_submissions/tdrd7_4th_amendment', 'tdrd7a', 'tdrd7a')",
   "id": "740c2a1969bddd5c",
   "outputs": [
    {
     "name": "stdout",
     "output_type": "stream",
     "text": [
      "tdrd7a-tdrd7a needs: \t 15:48:15\n",
      "\n",
      "\n",
      "\n",
      "The job will take approximately 15:48:15\n",
      "Folding 1 pairs\n"
     ]
    }
   ],
   "execution_count": 4
  },
  {
   "metadata": {
    "ExecuteTime": {
     "end_time": "2024-04-09T17:34:01.427185Z",
     "start_time": "2024-04-09T17:34:00.533836Z"
    }
   },
   "cell_type": "code",
   "source": [
    "# Pick from list of amino acids\n",
    "generate_pair('/Volumes/dave/JW/PPIDB/inputs/actin_lascramble', 'actb1', 'LAscramble', sequence2='MGV' + ''.join(np.random.choice(list('ARNDCEQGHILKMFPSTWYV'), 14)))"
   ],
   "id": "6561cfbff572642a",
   "outputs": [
    {
     "name": "stdout",
     "output_type": "stream",
     "text": [
      "actb1-LAscramble needs: \t 02:52:15\n",
      "\n",
      "\n",
      "\n",
      "The job will take approximately 02:52:15\n",
      "Folding 1 pairs\n"
     ]
    }
   ],
   "execution_count": 22
  },
  {
   "metadata": {
    "ExecuteTime": {
     "end_time": "2024-04-11T16:05:44.780111Z",
     "start_time": "2024-04-11T16:05:44.777164Z"
    }
   },
   "cell_type": "code",
   "source": [
    "def rework_text(text):\n",
    "    list_of_entries = text.split('\\n')\n",
    "    list_of_entries = [entry.split('\\t')[1] for entry in list_of_entries if entry != '']\n",
    "    return list_of_entries"
   ],
   "id": "c9551b2df57c8200",
   "outputs": [],
   "execution_count": 15
  },
  {
   "metadata": {
    "ExecuteTime": {
     "end_time": "2024-04-11T16:06:57.780139Z",
     "start_time": "2024-04-11T16:06:57.777075Z"
    }
   },
   "cell_type": "code",
   "source": [
    "input_dnd_super = \"\"\"3\teif3d\n",
    "10\teif3k\n",
    "11\teif3ba\n",
    "20\teif3f\n",
    "2\tpabpc1a\n",
    "12\teif4ea\n",
    "19\tnanos3\"\"\"\n",
    "\n",
    "input_dnd_kinda = \"\"\"1\teif1b\n",
    "4\tsamd4a\n",
    "5\tbuc\n",
    "6\ttdrd7a\n",
    "7\tpanx1a\n",
    "8\tpiwil1\n",
    "9\tprmt5\n",
    "13\tddx6\n",
    "14\tlarp1\n",
    "15\timp3\n",
    "16\tnop56\n",
    "17\teif4g1a\n",
    "18\tdazl\"\"\"\n",
    "\n",
    "input_dnd_junk = \"\"\"\n",
    "21\teif4e1b\n",
    "22\teif2s3\n",
    "23\teef2b\n",
    "24\teif1\n",
    "25\teif4a1a\n",
    "26\teif4a3\n",
    "27\tmto1\n",
    "28\ttsfm\n",
    "29\teef2\n",
    "30\teif3f\n",
    "31\teif3ha\n",
    "32\teef1a1l1\n",
    "33\trbm24a\n",
    "34\tpum3\n",
    "35\tnanos2\n",
    "36\tnanos1\n",
    "37\tpiwil1\n",
    "38\tfxr1\n",
    "39\tpiwil2\n",
    "40\tmettl3\n",
    "41\tythdf2\n",
    "42\tpum2\n",
    "43\tpum3\n",
    "44\tzbtb16a\n",
    "45\tddx4\n",
    "46\tdnd1\n",
    "47\tcnot8\n",
    "48\tcnot1\n",
    "49\tcelf5a\n",
    "50\txiwi\"\"\""
   ],
   "id": "344d90b9683b680d",
   "outputs": [],
   "execution_count": 18
  },
  {
   "metadata": {
    "ExecuteTime": {
     "end_time": "2024-04-11T16:06:58.204436Z",
     "start_time": "2024-04-11T16:06:58.070465Z"
    }
   },
   "cell_type": "code",
   "source": "some_vs_some('/Users/julian/Library/Mobile Documents/com~apple~CloudDocs/Documents/PhD/misc/for_others/for_AG/dnd_interactome_super', ['dnd1'], rework_text(input_dnd_super), True, both_ways=False, t_min=6500)",
   "id": "33311d0b88f8a7bd",
   "outputs": [
    {
     "name": "stdout",
     "output_type": "stream",
     "text": [
      "dnd1-eif3d_4 needs: \t 07:03:09\n",
      "dnd1-eif3k needs: \t 04:36:49\n",
      "dnd1-eif3ba needs: \t 07:59:50\n",
      "dnd1-eif3f needs: \t 05:04:30\n",
      "dnd1-pabpc1a needs: \t 07:39:11\n",
      "dnd1-eif4ea needs: \t 04:35:04\n",
      "dnd1-eif4ea_1 needs: \t 04:35:04\n",
      "dnd1-nanos3 needs: \t 04:10:27\n",
      "\n",
      "\n",
      "\n",
      "The job will take approximately 45:44:08\n",
      "Folding 8 pairs\n"
     ]
    }
   ],
   "execution_count": 19
  },
  {
   "metadata": {
    "ExecuteTime": {
     "end_time": "2024-04-11T16:07:06.710261Z",
     "start_time": "2024-04-11T16:07:06.518467Z"
    }
   },
   "cell_type": "code",
   "source": "some_vs_some('/Users/julian/Library/Mobile Documents/com~apple~CloudDocs/Documents/PhD/misc/for_others/for_AG/dnd_interactome_kinda', ['dnd1'], rework_text(input_dnd_kinda), True, both_ways=False, t_min=6500)",
   "id": "12cd468468a0bc29",
   "outputs": [
    {
     "name": "stdout",
     "output_type": "stream",
     "text": [
      "dnd1-eif1b needs: \t 03:50:15\n",
      "dnd1-samd4a_1 needs: \t 08:02:54\n",
      "dnd1-buc needs: \t 07:41:23\n",
      "dnd1-tdrd7a needs: \t 10:54:43\n",
      "dnd1-panx1a needs: \t 06:03:50\n",
      "dnd1-piwil1_2 needs: \t 09:17:36\n",
      "dnd1-prmt5 needs: \t 07:37:52\n",
      "dnd1-prmt5_1 needs: \t 07:34:47\n",
      "dnd1-larp1 needs: \t 10:06:23\n",
      "dnd1-imp3 needs: \t 04:21:00\n",
      "dnd1-nop56_1 needs: \t 07:01:23\n",
      "dnd1-eif4g1a_1 needs: \t 14:37:04\n",
      "dnd1-dazl_2 needs: \t 04:41:13\n",
      "\n",
      "\n",
      "\n",
      "The job will take approximately 101:50:28\n",
      "Folding 13 pairs\n"
     ]
    }
   ],
   "execution_count": 20
  },
  {
   "metadata": {
    "ExecuteTime": {
     "end_time": "2024-04-11T16:07:17.678496Z",
     "start_time": "2024-04-11T16:07:09.732684Z"
    }
   },
   "cell_type": "code",
   "source": "some_vs_some('/Users/julian/Library/Mobile Documents/com~apple~CloudDocs/Documents/PhD/misc/for_others/for_AG/dnd_interactome_junk', ['dnd1'], rework_text(input_dnd_junk), True, both_ways=False, t_min=6500)",
   "id": "75227484140a3fb0",
   "outputs": [
    {
     "name": "stdout",
     "output_type": "stream",
     "text": [
      "No result for xiwi was found, thus its not considered\n",
      "dnd1-eif4e1b needs: \t 04:34:38\n",
      "dnd1-eif2s3_1 needs: \t 06:28:00\n",
      "dnd1-eef2b needs: \t 09:17:36\n",
      "dnd1-eef2b_1 needs: \t 09:18:29\n",
      "dnd1-eif1 needs: \t 03:50:15\n",
      "dnd1-eif4a1a needs: \t 05:59:00\n",
      "dnd1-eif4a3 needs: \t 05:59:00\n",
      "dnd1-mto1 needs: \t 07:50:10\n",
      "dnd1-tsfm needs: \t 05:13:44\n",
      "dnd1-tsfm_1 needs: \t 05:14:37\n",
      "dnd1-eef2a needs: \t 09:15:51\n",
      "dnd1-eif3f needs: \t 05:04:30\n",
      "dnd1-eif3ha needs: \t 05:27:48\n",
      "dnd1-eef1a1l1_1 needs: \t 06:23:36\n",
      "dnd1-rbm24a needs: \t 04:41:39\n",
      "dnd1-pum3_2 needs: \t 07:36:59\n",
      "dnd1-nanos2 needs: \t 04:04:45\n",
      "dnd1-nanos1 needs: \t 04:40:47\n",
      "dnd1-piwil1_2 needs: \t 09:17:36\n",
      "dnd1-fxr1_1 needs: \t 07:44:01\n",
      "dnd1-piwil2 needs: \t 10:58:14\n",
      "dnd1-mettl3 needs: \t 07:17:12\n",
      "dnd1-ythdf2 needs: \t 07:29:57\n",
      "dnd1-pum2_1 needs: \t 11:51:50\n",
      "dnd1-zbtb16a_2 needs: \t 07:55:26\n",
      "dnd1-ddx4_5 needs: \t 08:15:13\n",
      "dnd1-dnd1 needs: \t 06:01:11\n",
      "dnd1-cnot1 needs: \t 20:23:45\n",
      "dnd1-cnot1_2 needs: \t 20:04:52\n",
      "dnd1-celf5a_1 needs: \t 06:52:36\n",
      "dnd1-celf5a_2 needs: \t 04:02:59\n",
      "\n",
      "\n",
      "\n",
      "The job will take approximately 239:16:30\n",
      "Folding 31 pairs\n"
     ]
    }
   ],
   "execution_count": 21
  },
  {
   "metadata": {
    "ExecuteTime": {
     "end_time": "2024-04-11T15:43:13.476684Z",
     "start_time": "2024-04-11T15:43:13.288082Z"
    }
   },
   "cell_type": "code",
   "source": "all_vs_all('/Users/julian/Library/Mobile Documents/com~apple~CloudDocs/Documents/PhD/misc/af2/granule_network', ['dnd1', 'nanos3', 'ddx4', 'ran', 'gra', 'ran', 'tdrd7a', 'kpna4', 'seh1l', 'ranbp1', 'ranbp9', 'sec13'], True)",
   "id": "1ef885db89c11a95",
   "outputs": [
    {
     "name": "stdout",
     "output_type": "stream",
     "text": [
      "nanos3-dnd1 needs: \t 04:10:27\n",
      "ddx4_5-dnd1 needs: \t 08:15:13\n",
      "gra-dnd1 needs: \t 04:02:33\n",
      "tdrd7a-dnd1 needs: \t 10:54:43\n",
      "kpna4_1-dnd1 needs: \t 06:49:31\n",
      "seh1l_1-dnd1 needs: \t 05:40:32\n",
      "ranbp1-dnd1 needs: \t 04:33:18\n",
      "ranbp9-dnd1 needs: \t 07:22:55\n",
      "sec13-dnd1 needs: \t 05:21:12\n",
      "sec13_1-dnd1 needs: \t 05:28:14\n",
      "ddx4_5-nanos3 needs: \t 06:24:29\n",
      "----- gra-nanos3 underbet t_min with : \t 00:00:00\n",
      "gra-nanos3 needs: \t 01:40:00\n",
      "tdrd7a-nanos3 needs: \t 09:03:59\n",
      "kpna4_1-nanos3 needs: \t 04:58:48\n",
      "seh1l_1-nanos3 needs: \t 03:49:48\n",
      "ranbp1-nanos3 needs: \t 02:42:34\n",
      "ranbp9-nanos3 needs: \t 05:32:11\n",
      "sec13-nanos3 needs: \t 03:30:28\n",
      "sec13_1-nanos3 needs: \t 03:37:30\n",
      "gra-ddx4_5 needs: \t 06:16:34\n",
      "tdrd7a-ddx4_5 needs: \t 13:08:44\n",
      "kpna4_1-ddx4_5 needs: \t 09:03:33\n",
      "seh1l_1-ddx4_5 needs: \t 07:54:33\n",
      "ranbp1-ddx4_5 needs: \t 06:47:20\n",
      "ranbp9-ddx4_5 needs: \t 09:36:56\n",
      "sec13-ddx4_5 needs: \t 07:35:13\n",
      "sec13_1-ddx4_5 needs: \t 07:42:15\n",
      "tdrd7a-gra needs: \t 08:56:05\n",
      "kpna4_1-gra needs: \t 04:50:53\n",
      "seh1l_1-gra needs: \t 03:41:54\n",
      "ranbp1-gra needs: \t 02:34:40\n",
      "ranbp9-gra needs: \t 05:24:17\n",
      "sec13-gra needs: \t 03:22:34\n",
      "sec13_1-gra needs: \t 03:29:36\n",
      "kpna4_1-tdrd7a needs: \t 11:43:03\n",
      "seh1l_1-tdrd7a needs: \t 10:34:04\n",
      "ranbp1-tdrd7a needs: \t 09:26:50\n",
      "ranbp9-tdrd7a needs: \t 12:16:27\n",
      "sec13-tdrd7a needs: \t 10:14:44\n",
      "sec13_1-tdrd7a needs: \t 10:21:46\n",
      "seh1l_1-kpna4_1 needs: \t 06:28:52\n",
      "ranbp1-kpna4_1 needs: \t 05:21:39\n",
      "ranbp9-kpna4_1 needs: \t 08:11:15\n",
      "sec13-kpna4_1 needs: \t 06:09:32\n",
      "sec13_1-kpna4_1 needs: \t 06:16:34\n",
      "ranbp1-seh1l_1 needs: \t 04:12:39\n",
      "ranbp9-seh1l_1 needs: \t 07:02:16\n",
      "sec13-seh1l_1 needs: \t 05:00:33\n",
      "----- sec13_1-seh1l_1 underbet t_min with : \t 00:00:00\n",
      "sec13_1-seh1l_1 needs: \t 01:40:00\n",
      "ranbp9-ranbp1 needs: \t 05:55:02\n",
      "sec13-ranbp1 needs: \t 03:53:19\n",
      "sec13_1-ranbp1 needs: \t 04:00:21\n",
      "sec13-ranbp9 needs: \t 06:42:56\n",
      "sec13_1-ranbp9 needs: \t 06:49:58\n",
      "sec13_1-sec13 needs: \t 04:48:15\n",
      "\n",
      "\n",
      "\n",
      "The job will take approximately 351:34:06\n",
      "Folding 55 pairs\n"
     ]
    }
   ],
   "execution_count": 4
  },
  {
   "metadata": {
    "ExecuteTime": {
     "end_time": "2024-04-11T11:20:01.256316Z",
     "start_time": "2024-04-11T11:20:01.252880Z"
    }
   },
   "cell_type": "code",
   "source": "from itertools import combinations",
   "id": "669675b4a3e87efc",
   "outputs": [],
   "execution_count": 3
  },
  {
   "metadata": {
    "ExecuteTime": {
     "end_time": "2024-04-11T15:44:00.092125Z",
     "start_time": "2024-04-11T15:43:59.917864Z"
    }
   },
   "cell_type": "code",
   "source": "generate_multiple_pairs('/Users/julian/Library/Mobile Documents/com~apple~CloudDocs/Documents/PhD/misc/af2/granule_network', ['dnd1', 'nanos3', 'ddx4', 'ran', 'gra', 'ran', 'tdrd7a', 'kpna4', 'seh1l', 'ranbp1', 'ranbp9', 'sec13'], 'ran', sequence=ran_sequence)",
   "id": "fadf4db09fc630fd",
   "outputs": [
    {
     "name": "stdout",
     "output_type": "stream",
     "text": [
      "dnd1-ran needs: \t 04:35:04\n",
      "nanos3-ran needs: \t 02:44:20\n",
      "ddx4_5-ran needs: \t 06:49:05\n",
      "gra-ran needs: \t 02:36:25\n",
      "tdrd7a-ran needs: \t 09:28:36\n",
      "kpna4_1-ran needs: \t 05:23:24\n",
      "seh1l_1-ran needs: \t 04:14:25\n",
      "ranbp1-ran needs: \t 03:07:11\n",
      "ranbp9-ran needs: \t 05:56:48\n",
      "sec13-ran needs: \t 03:55:05\n",
      "sec13_1-ran needs: \t 04:02:07\n",
      "\n",
      "\n",
      "\n",
      "The job will take approximately 52:52:33\n",
      "Folding 11 pairs\n"
     ]
    }
   ],
   "execution_count": 5
  },
  {
   "metadata": {
    "ExecuteTime": {
     "end_time": "2024-04-19T05:57:51.108308Z",
     "start_time": "2024-04-19T05:57:51.105618Z"
    }
   },
   "cell_type": "code",
   "source": [
    "#import seqIO\n",
    "import Bio.SeqIO as seqIO\n",
    "from Bio.SeqRecord import SeqRecord\n",
    "from Bio.Seq import Seq\n",
    "import os"
   ],
   "id": "13d65886c72a4f03",
   "outputs": [],
   "execution_count": 5
  },
  {
   "metadata": {
    "ExecuteTime": {
     "end_time": "2024-04-19T05:57:51.572929Z",
     "start_time": "2024-04-19T05:57:51.570641Z"
    }
   },
   "cell_type": "code",
   "source": [
    "tdrd7a_seq = \"\"\"\n",
    "MSDVELVKKMLRAVLQSSKHGVAMARLQGDYRALTGEMIPFRKFGHDTLESFLRSIPGVV\n",
    "RLERSIAGEVMCFAGVCEETAHIAQLVARQKNVKKTGCSKLLNFQMRTRTSHLFSHNVKP\n",
    "RLSLRQPSNMTHPGRGSVTSFYSTQRKLYSTDLPSSRAPAWQMNRKSPVPEKTSVVPSKI\n",
    "NTNIKTPLKKTSGTPAQQKPVNRADVELVQGRIKQLLQKYSSGVWLSKIPQLYKSMFQEE\n",
    "LHIIQEVEKWTHICTVEKPGSNNIVDRLVYPVLEPVPKASPVPVKSPCKQSPNTALLKQP\n",
    "TLTQKTTRTFRTLAINIPQSTPKPQTPLSPTSPNSTMMDFTLSETPKTQSLSPITPPSTP\n",
    "PAHQPLTTELKQKLRQLLNKYSQGLWAHGLPQLFQEAFGCAFPQYVLEDLSLLADTCMVE\n",
    "YPMPDNRKRAILYTLPCQVQTQPRSRPPPLVLPCTSNPHVPPLIIPTADFHSVFVIEINS\n",
    "TNNVVVRFAGEGYSKSLEVMEEEMQNFYNNIGAGLCLLSPKIGQLVAVASSDGAMLRAQV\n",
    "HQLSEDKVKVYFLDHGFFDLVSRKTVFQLRDQFMTLPFQATTCQLAGLEPFSTDPVVLKT\n",
    "LQSLAVGRSLLAEIVEREDTPLVVLYDTSENDDVNVTAMCLKALQDKSMENPLQVNSVYT\n",
    "NVCVTNVCSDGSVYCQLPSRGQAKLKDIMDKIEAHFISQLTWELLVSRPFCGKVCLAKYK\n",
    "GKWARAEIINLHGSHVLDILFLDLGLPASLEVSELREIPPIFLKELITIPPQAIKCLLED\n",
    "LNVDRAVWPPEAVLWLRETVHNKAPSCMKIVKLDETRTVHIYLFCGNEAQDIHDSVNRQL\n",
    "ASCPFWKQDVYANKINKASELFLPDAGEPSGPSPAPSNALTLPPQLNLPLVGQNMDVFVS\n",
    "VACHPGHFVLQPWQDLYKLVVLMGEMVLFYNKQEVTPVDIQKNNVYAAKIDNNWHRVLVK\n",
    "GLLTNGLVSVYELDYGKYELINYTQLQPLIEEFRQLPFQGISAQLADVKKEVWCEEASMV\n",
    "FRNHVEKKPLVAQIESVEEGEWPWERKISVYLVDTTQENKDIWIHNIMKEFLDEISRDA\"\"\".replace('\\n', '')\n",
    "\n",
    "vasa_seq = \"\"\"\n",
    "MDDWEEDQSPVVSCSSGFGLGSNGSDGGFKSFYTGGAGNDKSNSEGTEGSSWKMTGDSFR\n",
    "GRGGRGGSRGGRGGFSGFKSEIDENGSDGGWNGGESRGKGRGGFRGGFRSGSRDENDENG\n",
    "NDDGWKGGESRGRGRGGFGGGFRGGFRDGGNEDTGRRGFGRENNENGNDEEGEGRGRGRG\n",
    "GFRGGFRDGGGDESGKRGFGRGGFRGRNEEVFSKVTTADKLDQEGSENAGPKVVYVPPPP\n",
    "PEEESSIFSHYATGINFDKYDDILVDVSGSNPPKAIMTFEEAGLCDSLSKNVSKSGYVKP\n",
    "TPVQKHGIPIISAGRDLMACAQTGSGKTAAFLLPILQRFMTDGVAASKFSEIQEPEAIIV\n",
    "APTRELINQIYLEARKFAYGTCVRPVVVYGGINTGYTIREVLKGCNVLCATPGRLHDLIG\n",
    "RGKIGLSKVRYLVLDEADRMLDMGFEPEMRKLVASPGMPSKEERQTLMFSATYPEDIQRM\n",
    "AADFLKVDYIFLAVGVVGGACSDVEQTIVQVDQYSKRDQLLELLRATGNERTMVFVETKR\n",
    "SADFIATFLCQEKISTTSIHGDREQREREKALSDFRLGQCPVLVATSVAARGLDIEQVQH\n",
    "VVNFDMPSSIDEYVHRIGRTGRCGNTGRAVSFFNPESDTPLARSLVKVLSGAQQVVPKWL\n",
    "EEVAFSAHGTTGFNPRGKVFASTDSRKGGSFKSDEPPPSQTSAPSAAAAADDEEWE\"\"\".replace('\\n', '')\n"
   ],
   "id": "6564c761ac1a601b",
   "outputs": [],
   "execution_count": 6
  },
  {
   "metadata": {
    "ExecuteTime": {
     "end_time": "2024-04-19T06:00:09.026180Z",
     "start_time": "2024-04-19T06:00:09.020427Z"
    }
   },
   "cell_type": "code",
   "source": [
    "recs = [SeqRecord(Seq(tdrd7a_seq), id='tdrd7a', description='tdrd7a'), \n",
    "        SeqRecord(Seq(tdrd7a_seq), id='tdrd7a', description='tdrd7a'),\n",
    "        SeqRecord(Seq(ran_sequence), id='ran', description='ran')]\n",
    "comb_name = 'tdrd7a-ran-tdrd7a'\n",
    "seqIO.write(recs, f'/Users/julian/Desktop/maxi_predict/fasta/{comb_name}.fasta', 'fasta-2line')\n",
    "\n",
    "\n",
    "partition=\"gpua100\"\n",
    "user=\"jwegner1@uni-muenster.de\"\n",
    "nodes=1\n",
    "cores=10\n",
    "gres=1\n",
    "memory=160\n",
    "precomputed_msas=False\n",
    "database='full_dbs'\n",
    "run_time='32:00:00'\n",
    "job_name='tdrd7a-ran-tdrd7a'\n",
    "\n",
    "job_name = f\"job_{comb_name}\"\n",
    "pre_msas = str(precomputed_msas).lower()\n",
    "experiment_name = 'maxi_predict'\n",
    "\n",
    "bash_script_text = f\"\"\"#!/bin/bash\n",
    "#SBATCH --partition={partition}\n",
    "#SBATCH --nodes={nodes}\n",
    "#SBATCH --gres=gpu:{gres}\n",
    "#SBATCH --cpus-per-task={cores}\n",
    "#SBATCH --mem={memory}G\n",
    "#SBATCH --time={run_time}\n",
    "#SBATCH --job-name={job_name}\n",
    "#SBATCH --account=uni\n",
    "#SBATCH --mail-type=ALL\n",
    "#SBATCH --mail-user={user}\n",
    "\n",
    "module load palma/2021a\n",
    "module load foss/2021a\n",
    "module load AlphaFold/2.1.2\n",
    "wait\n",
    "export ALPHAFOLD_DATA_DIR=/Applic.HPC/data/alphafold\n",
    "\n",
    "alphafold \\\\\n",
    "    --fasta_paths=/scratch/tmp/jwegner1/{experiment_name}/fasta/{comb_name}.fasta \\\\\n",
    "    --model_preset=multimer \\\\\n",
    "    --output_dir=/scratch/tmp/jwegner1/{experiment_name}/xprt \\\\\n",
    "    --max_template_date=2021-11-25 \\\\\n",
    "    --use_precomputed_msas={pre_msas} \\\\\n",
    "    --is_prokaryote_list=false \\\\\n",
    "    --db_preset={database} \\\\\n",
    "    --data_dir=/Applic.HPC/data/alphafold\n",
    "\"\"\"\n",
    "\n",
    "with open(os.path.join('/Users/julian/Desktop/maxi_predict/', f'{job_name}.sh'), 'w+') as bsh:\n",
    "    # bsh.writelines(bash_script_lines)\n",
    "    bsh.write(bash_script_text)"
   ],
   "id": "11ce6443b8dee8f3",
   "outputs": [],
   "execution_count": 8
  },
  {
   "metadata": {
    "ExecuteTime": {
     "end_time": "2024-04-19T06:08:27.160289Z",
     "start_time": "2024-04-19T06:08:27.157301Z"
    }
   },
   "cell_type": "code",
   "source": "",
   "id": "939864149e7b56b0",
   "outputs": [],
   "execution_count": 11
  }
 ],
 "metadata": {
  "kernelspec": {
   "display_name": "Python 3",
   "language": "python",
   "name": "python3"
  },
  "language_info": {
   "codemirror_mode": {
    "name": "ipython",
    "version": 2
   },
   "file_extension": ".py",
   "mimetype": "text/x-python",
   "name": "python",
   "nbconvert_exporter": "python",
   "pygments_lexer": "ipython2",
   "version": "2.7.6"
  }
 },
 "nbformat": 4,
 "nbformat_minor": 5
}
