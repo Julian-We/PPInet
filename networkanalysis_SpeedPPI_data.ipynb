{
 "cells": [
  {
   "cell_type": "code",
   "execution_count": 52,
   "metadata": {},
   "outputs": [
    {
     "name": "stdout",
     "output_type": "stream",
     "text": [
      "Warning: When  cdn_resources is 'local' jupyter notebook has issues displaying graphics on chrome/safari. Use cdn_resources='in_line' or cdn_resources='remote' if you have issues viewing graphics in a notebook.\n",
      "interaction_net.html\n"
     ]
    },
    {
     "data": {
      "text/plain": "<IPython.lib.display.IFrame at 0x7fca37632550>",
      "text/html": "\n        <iframe\n            width=\"2560px\"\n            height=\"1440px\"\n            src=\"interaction_net.html\"\n            frameborder=\"0\"\n            allowfullscreen\n            \n        ></iframe>\n        "
     },
     "execution_count": 52,
     "metadata": {},
     "output_type": "execute_result"
    }
   ],
   "source": [
    "import networkx as nx\n",
    "import pandas as pd\n",
    "from pyvis.network import Network\n",
    "from ipywidgets import interactive\n",
    "\n",
    "df = pd.read_csv('/Users/izbuser/Downloads/data_from_SpeedPPI/julian_2/output/all_ppis_unfiltered.csv')\n",
    "df[['interactor 1', 'interactor 2']] = df['ID'].str.extract(r'(\\w+)-\\d+-([\\w]+)')\n",
    "df = df[df['pdockq'] > 0.375]\n",
    "g = nx.from_pandas_edgelist(df, source='interactor 1', target='interactor 2', edge_attr=\"pdockq\")\n",
    "\n",
    "net = Network(notebook=True, height=\"1440px\", width=\"2560px\")  # Adjust the height and width as needed\n",
    "net.from_nx(g)\n",
    "net.save_graph(\"interaction_net.html\")\n",
    "net.show(\"interaction_net.html\")"
   ]
  },
  {
   "cell_type": "code",
   "execution_count": null,
   "outputs": [],
   "source": [],
   "metadata": {
    "collapsed": false
   }
  }
 ],
 "metadata": {
  "kernelspec": {
   "display_name": "Python 3 (ipykernel)",
   "language": "python",
   "name": "python3"
  },
  "language_info": {
   "codemirror_mode": {
    "name": "ipython",
    "version": 3
   },
   "file_extension": ".py",
   "mimetype": "text/x-python",
   "name": "python",
   "nbconvert_exporter": "python",
   "pygments_lexer": "ipython3",
   "version": "3.8.8"
  }
 },
 "nbformat": 4,
 "nbformat_minor": 1
}
