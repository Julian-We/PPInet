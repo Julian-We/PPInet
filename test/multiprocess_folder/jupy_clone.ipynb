{
 "cells": [
  {
   "cell_type": "code",
   "id": "initial_id",
   "metadata": {
    "collapsed": true,
    "ExecuteTime": {
     "end_time": "2024-08-12T09:33:12.904626Z",
     "start_time": "2024-08-12T09:33:12.733110Z"
    }
   },
   "source": "from decipherclone import very_complex_calculation",
   "outputs": [
    {
     "ename": "ImportError",
     "evalue": "cannot import name 'the_multiplicator' from 'multiclone' (/Users/julian/Library/Mobile Documents/com~apple~CloudDocs/Documents/General Science/Programming/py/general_analysis/20240111_PPI-network/test/multiprocess_folder/multiclone.py)",
     "output_type": "error",
     "traceback": [
      "\u001B[0;31m---------------------------------------------------------------------------\u001B[0m",
      "\u001B[0;31mImportError\u001B[0m                               Traceback (most recent call last)",
      "Cell \u001B[0;32mIn[1], line 1\u001B[0m\n\u001B[0;32m----> 1\u001B[0m \u001B[38;5;28;01mfrom\u001B[39;00m \u001B[38;5;21;01mdecipherclone\u001B[39;00m \u001B[38;5;28;01mimport\u001B[39;00m very_complex_calculation\n",
      "File \u001B[0;32m~/Library/Mobile Documents/com~apple~CloudDocs/Documents/General Science/Programming/py/general_analysis/20240111_PPI-network/test/multiprocess_folder/decipherclone.py:2\u001B[0m\n\u001B[1;32m      1\u001B[0m \u001B[38;5;28;01mimport\u001B[39;00m \u001B[38;5;21;01mnumpy\u001B[39;00m \u001B[38;5;28;01mas\u001B[39;00m \u001B[38;5;21;01mnp\u001B[39;00m\n\u001B[0;32m----> 2\u001B[0m \u001B[38;5;28;01mfrom\u001B[39;00m \u001B[38;5;21;01mmulticlone\u001B[39;00m \u001B[38;5;28;01mimport\u001B[39;00m the_multiplicator\n\u001B[1;32m      6\u001B[0m \u001B[38;5;28;01mdef\u001B[39;00m \u001B[38;5;21mvery_complex_calculation\u001B[39m():\n\u001B[1;32m      7\u001B[0m     list_of_samples \u001B[38;5;241m=\u001B[39m []\n",
      "\u001B[0;31mImportError\u001B[0m: cannot import name 'the_multiplicator' from 'multiclone' (/Users/julian/Library/Mobile Documents/com~apple~CloudDocs/Documents/General Science/Programming/py/general_analysis/20240111_PPI-network/test/multiprocess_folder/multiclone.py)"
     ]
    }
   ],
   "execution_count": 1
  },
  {
   "metadata": {},
   "cell_type": "code",
   "outputs": [],
   "execution_count": null,
   "source": "",
   "id": "7d36f1fa9246ac64"
  }
 ],
 "metadata": {
  "kernelspec": {
   "display_name": "Python 3",
   "language": "python",
   "name": "python3"
  },
  "language_info": {
   "codemirror_mode": {
    "name": "ipython",
    "version": 2
   },
   "file_extension": ".py",
   "mimetype": "text/x-python",
   "name": "python",
   "nbconvert_exporter": "python",
   "pygments_lexer": "ipython2",
   "version": "2.7.6"
  }
 },
 "nbformat": 4,
 "nbformat_minor": 5
}
