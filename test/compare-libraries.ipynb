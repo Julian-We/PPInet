{
 "cells": [
  {
   "cell_type": "code",
   "id": "initial_id",
   "metadata": {
    "collapsed": true,
    "ExecuteTime": {
     "end_time": "2024-11-21T13:35:54.428942Z",
     "start_time": "2024-11-21T13:35:53.974130Z"
    }
   },
   "source": [
    "from aflib.data import DICT_GENES\n",
    "from Bio import SeqIO\n",
    "import re\n",
    "from tqdm.notebook import tqdm"
   ],
   "outputs": [],
   "execution_count": 2
  },
  {
   "metadata": {
    "ExecuteTime": {
     "end_time": "2024-11-21T13:35:54.830720Z",
     "start_time": "2024-11-21T13:35:54.431081Z"
    }
   },
   "cell_type": "code",
   "source": [
    "# Load uniprot fasta\n",
    "up_fasta_dir = '/Users/julian/Downloads/zf_UniProt_lib.fasta'\n",
    "up_entries = list(SeqIO.parse(up_fasta_dir, \"fasta\"))"
   ],
   "id": "84accc2d833919d3",
   "outputs": [],
   "execution_count": 3
  },
  {
   "metadata": {
    "ExecuteTime": {
     "end_time": "2024-11-21T13:35:54.864694Z",
     "start_time": "2024-11-21T13:35:54.831510Z"
    }
   },
   "cell_type": "code",
   "source": [
    "# Create UniProt dictionary – keys are gene names, values are the corresponding entries. Gene names are extracted from the description field via regex\n",
    "up_dict = {}\n",
    "non_matching_entries = 0\n",
    "for entry in up_entries:\n",
    "    try:\n",
    "        gene_name = re.search(r'GN=(.+?)\\s', entry.description).group(1)\n",
    "        up_dict[gene_name] = entry\n",
    "    except AttributeError:\n",
    "        # print(entry.description)\n",
    "        non_matching_entries += 1\n",
    "print(f'Could not match {round(non_matching_entries/len(up_dict),4)}% of entries.')\n"
   ],
   "id": "d84ab7ea03ae6c6e",
   "outputs": [
    {
     "name": "stdout",
     "output_type": "stream",
     "text": [
      "Could not match 0.0003% of entries.\n"
     ]
    }
   ],
   "execution_count": 4
  },
  {
   "metadata": {
    "ExecuteTime": {
     "end_time": "2024-11-21T13:36:22.065140Z",
     "start_time": "2024-11-21T13:35:54.865980Z"
    }
   },
   "cell_type": "code",
   "source": [
    "def ensembl_search_engine(query):\n",
    "    return [ensembl_entry for ensembl_entry in DICT_GENES.keys() if query_gene.lower() == ensembl_entry.lower() or ''.join([query_gene.lower(), '_']) in ensembl_entry.lower()]\n",
    "# Compare gene names in UniProt and Ensembl\n",
    "result_dict = {}\n",
    "# Iterate over the Uniprot dictionary\n",
    "for query_gene, up_entry in tqdm(up_dict.items()):\n",
    "\n",
    "    # Search for the gene name in the Ensembl dictionary\n",
    "    ensembl_search_results = ensembl_search_engine(query_gene)\n",
    "    \n",
    "    for ensembl_gene in ensembl_search_results:\n",
    "        ensembl_entry_comp = DICT_GENES.get(ensembl_gene)"
   ],
   "id": "3aec693ee2ffff8",
   "outputs": [
    {
     "data": {
      "text/plain": [
       "  0%|          | 0/26335 [00:00<?, ?it/s]"
      ],
      "application/vnd.jupyter.widget-view+json": {
       "version_major": 2,
       "version_minor": 0,
       "model_id": "68a8d33c82574c1f86a04a94179da4d1"
      }
     },
     "metadata": {},
     "output_type": "display_data"
    },
    {
     "ename": "KeyboardInterrupt",
     "evalue": "",
     "output_type": "error",
     "traceback": [
      "\u001B[0;31m---------------------------------------------------------------------------\u001B[0m",
      "\u001B[0;31mKeyboardInterrupt\u001B[0m                         Traceback (most recent call last)",
      "Cell \u001B[0;32mIn[5], line 9\u001B[0m\n\u001B[1;32m      5\u001B[0m \u001B[38;5;66;03m# Iterate over the Uniprot dictionary\u001B[39;00m\n\u001B[1;32m      6\u001B[0m \u001B[38;5;28;01mfor\u001B[39;00m query_gene, up_entry \u001B[38;5;129;01min\u001B[39;00m tqdm(up_dict\u001B[38;5;241m.\u001B[39mitems()):\n\u001B[1;32m      7\u001B[0m \n\u001B[1;32m      8\u001B[0m     \u001B[38;5;66;03m# Search for the gene name in the Ensembl dictionary\u001B[39;00m\n\u001B[0;32m----> 9\u001B[0m     ensembl_search_results \u001B[38;5;241m=\u001B[39m \u001B[43mensembl_search_engine\u001B[49m\u001B[43m(\u001B[49m\u001B[43mquery_gene\u001B[49m\u001B[43m)\u001B[49m\n\u001B[1;32m     11\u001B[0m     \u001B[38;5;28;01mfor\u001B[39;00m ensembl_gene \u001B[38;5;129;01min\u001B[39;00m ensembl_search_results:\n\u001B[1;32m     12\u001B[0m         ensembl_entry_comp \u001B[38;5;241m=\u001B[39m DICT_GENES\u001B[38;5;241m.\u001B[39mget(ensembl_gene)\n",
      "Cell \u001B[0;32mIn[5], line 2\u001B[0m, in \u001B[0;36mensembl_search_engine\u001B[0;34m(query)\u001B[0m\n\u001B[1;32m      1\u001B[0m \u001B[38;5;28;01mdef\u001B[39;00m \u001B[38;5;21mensembl_search_engine\u001B[39m(query):\n\u001B[0;32m----> 2\u001B[0m     \u001B[38;5;28;01mreturn\u001B[39;00m [ensembl_entry \u001B[38;5;28;01mfor\u001B[39;00m ensembl_entry \u001B[38;5;129;01min\u001B[39;00m DICT_GENES\u001B[38;5;241m.\u001B[39mkeys() \u001B[38;5;28;01mif\u001B[39;00m query_gene\u001B[38;5;241m.\u001B[39mlower() \u001B[38;5;241m==\u001B[39m ensembl_entry\u001B[38;5;241m.\u001B[39mlower() \u001B[38;5;129;01mor\u001B[39;00m \u001B[38;5;124m'\u001B[39m\u001B[38;5;124m'\u001B[39m\u001B[38;5;241m.\u001B[39mjoin([query_gene\u001B[38;5;241m.\u001B[39mlower(), \u001B[38;5;124m'\u001B[39m\u001B[38;5;124m_\u001B[39m\u001B[38;5;124m'\u001B[39m]) \u001B[38;5;129;01min\u001B[39;00m ensembl_entry\u001B[38;5;241m.\u001B[39mlower()]\n",
      "Cell \u001B[0;32mIn[5], line 2\u001B[0m, in \u001B[0;36m<listcomp>\u001B[0;34m(.0)\u001B[0m\n\u001B[1;32m      1\u001B[0m \u001B[38;5;28;01mdef\u001B[39;00m \u001B[38;5;21mensembl_search_engine\u001B[39m(query):\n\u001B[0;32m----> 2\u001B[0m     \u001B[38;5;28;01mreturn\u001B[39;00m [ensembl_entry \u001B[38;5;28;01mfor\u001B[39;00m ensembl_entry \u001B[38;5;129;01min\u001B[39;00m DICT_GENES\u001B[38;5;241m.\u001B[39mkeys() \u001B[38;5;28;01mif\u001B[39;00m query_gene\u001B[38;5;241m.\u001B[39mlower() \u001B[38;5;241m==\u001B[39m ensembl_entry\u001B[38;5;241m.\u001B[39mlower() \u001B[38;5;129;01mor\u001B[39;00m \u001B[38;5;124m'\u001B[39m\u001B[38;5;124m'\u001B[39m\u001B[38;5;241m.\u001B[39mjoin([query_gene\u001B[38;5;241m.\u001B[39mlower(), \u001B[38;5;124m'\u001B[39m\u001B[38;5;124m_\u001B[39m\u001B[38;5;124m'\u001B[39m]) \u001B[38;5;129;01min\u001B[39;00m ensembl_entry\u001B[38;5;241m.\u001B[39mlower()]\n",
      "\u001B[0;31mKeyboardInterrupt\u001B[0m: "
     ]
    }
   ],
   "execution_count": 5
  },
  {
   "metadata": {},
   "cell_type": "code",
   "source": "ensembl_search_engine('ddx4')",
   "id": "72621c4dbba37cdd",
   "outputs": [],
   "execution_count": null
  },
  {
   "metadata": {
    "ExecuteTime": {
     "end_time": "2024-11-21T13:48:24.648854Z",
     "start_time": "2024-11-21T13:48:24.629814Z"
    }
   },
   "cell_type": "code",
   "source": [
    "# Find all entries in up_entries that contain the gene name 'ddx4'\n",
    "ddx4_entries = [entry for entry in up_entries if 'ddx4 ' in entry.description]\n",
    "# Find unique sequences in ddx4_entries\n",
    "ddx4_sequences = set([str(entry.seq) for entry in ddx4_entries])"
   ],
   "id": "4018bf5494156912",
   "outputs": [],
   "execution_count": 19
  },
  {
   "metadata": {
    "ExecuteTime": {
     "end_time": "2024-11-21T13:48:54.217450Z",
     "start_time": "2024-11-21T13:48:54.214140Z"
    }
   },
   "cell_type": "code",
   "source": "ddx4_entries",
   "id": "d0c59c532b59e722",
   "outputs": [
    {
     "data": {
      "text/plain": [
       "[SeqRecord(seq=Seq('MDDWEEDQSPVVSCSSGFGLGSNGSDGGFKSFYTGGAGNDKSNSEGTEGSSWKM...EWE'), id='tr|A0A8M6Z2W1|A0A8M6Z2W1_DANRE', name='tr|A0A8M6Z2W1|A0A8M6Z2W1_DANRE', description='tr|A0A8M6Z2W1|A0A8M6Z2W1_DANRE RNA helicase OS=Danio rerio OX=7955 GN=ddx4 PE=1 SV=1', dbxrefs=[]),\n",
       " SeqRecord(seq=Seq('MDDWEEDQSPVVSCSSGFGLGSNGSDGGFKSFYTGGAGNDKSNSEGTEGSSWKM...EWE'), id='tr|A0A8M6Z8Q8|A0A8M6Z8Q8_DANRE', name='tr|A0A8M6Z8Q8|A0A8M6Z8Q8_DANRE', description='tr|A0A8M6Z8Q8|A0A8M6Z8Q8_DANRE RNA helicase OS=Danio rerio OX=7955 GN=ddx4 PE=1 SV=1', dbxrefs=[]),\n",
       " SeqRecord(seq=Seq('MDDWEEDQSPVVSCSSGFGGAGNDKSNSEGTEGSSWKMTGDSFRGRGGRGGSRG...EWE'), id='tr|A0A8M9PTC4|A0A8M9PTC4_DANRE', name='tr|A0A8M9PTC4|A0A8M9PTC4_DANRE', description='tr|A0A8M9PTC4|A0A8M9PTC4_DANRE RNA helicase OS=Danio rerio OX=7955 GN=ddx4 PE=1 SV=1', dbxrefs=[]),\n",
       " SeqRecord(seq=Seq('MDDWEEDQSPVVSCSSGFGGAGNDKSNSEGTEGSSWKMTGDSFRGRGGRGGSRG...EWE'), id='tr|A0A8M9Q5S2|A0A8M9Q5S2_DANRE', name='tr|A0A8M9Q5S2|A0A8M9Q5S2_DANRE', description='tr|A0A8M9Q5S2|A0A8M9Q5S2_DANRE RNA helicase OS=Danio rerio OX=7955 GN=ddx4 PE=1 SV=1', dbxrefs=[]),\n",
       " SeqRecord(seq=Seq('MDDWEEDQSPVVSCSSGFGGAGNDKSNSEGTEGSSWKMTGDSFRGRGGRGGSRG...EWE'), id='tr|A0A8M9QBU4|A0A8M9QBU4_DANRE', name='tr|A0A8M9QBU4|A0A8M9QBU4_DANRE', description='tr|A0A8M9QBU4|A0A8M9QBU4_DANRE RNA helicase OS=Danio rerio OX=7955 GN=ddx4 PE=1 SV=1', dbxrefs=[]),\n",
       " SeqRecord(seq=Seq('MDDWEEDQSPVVSCSSGFGGAGNDKSNSEGTEGSSWKMTGDSFRGRGGRGGSRG...EWE'), id='tr|A0A8M9QKJ0|A0A8M9QKJ0_DANRE', name='tr|A0A8M9QKJ0|A0A8M9QKJ0_DANRE', description='tr|A0A8M9QKJ0|A0A8M9QKJ0_DANRE RNA helicase OS=Danio rerio OX=7955 GN=ddx4 PE=1 SV=1', dbxrefs=[]),\n",
       " SeqRecord(seq=Seq('MDDWEEDQSPVVSCSSGFGLGSNGSDGGFKSFYTGGAGNDKSNSEGTEGSSWKM...EWE'), id='tr|O42107|O42107_DANRE', name='tr|O42107|O42107_DANRE', description='tr|O42107|O42107_DANRE RNA helicase OS=Danio rerio OX=7955 GN=ddx4 PE=1 SV=1', dbxrefs=[]),\n",
       " SeqRecord(seq=Seq('MDDWEEDQSPVVSCSSGFGLGSNGSDGGFKSFYTGGAGNDKSNSEGTEGSSWKM...EWE'), id='tr|Q8QGG8|Q8QGG8_DANRE', name='tr|Q8QGG8|Q8QGG8_DANRE', description='tr|Q8QGG8|Q8QGG8_DANRE RNA helicase OS=Danio rerio OX=7955 GN=ddx4 PE=1 SV=1', dbxrefs=[])]"
      ]
     },
     "execution_count": 22,
     "metadata": {},
     "output_type": "execute_result"
    }
   ],
   "execution_count": 22
  },
  {
   "metadata": {},
   "cell_type": "code",
   "outputs": [],
   "execution_count": null,
   "source": "",
   "id": "e8f6f4278b5a885f"
  }
 ],
 "metadata": {
  "kernelspec": {
   "display_name": "Python 3",
   "language": "python",
   "name": "python3"
  },
  "language_info": {
   "codemirror_mode": {
    "name": "ipython",
    "version": 2
   },
   "file_extension": ".py",
   "mimetype": "text/x-python",
   "name": "python",
   "nbconvert_exporter": "python",
   "pygments_lexer": "ipython2",
   "version": "2.7.6"
  }
 },
 "nbformat": 4,
 "nbformat_minor": 5
}
